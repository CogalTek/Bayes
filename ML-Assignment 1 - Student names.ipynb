{
 "cells": [
  {
   "cell_type": "markdown",
   "metadata": {},
   "source": [
    "# Machine Learning - Assignment 1\n",
    "\n",
    "## Naive Bayes Learning algorithm, Cross-validation, and ROC-Curves"
   ]
  },
  {
   "cell_type": "markdown",
   "metadata": {},
   "source": [
    "The aim of the assignment is to implement:\n",
    "\n",
    "* Naive Bayes learning algorithm for binary classification tasks\n",
    "* Visualization to plot a ROC-curve\n",
    "* A cross-validation test\n",
    "* Visualization of the average ROC-curve of a cross-validation test\n",
    "\n",
    "Follow the instructions and implement what is missing to complete the assignment. Some functions have been started to help you a little bit with the inputs or outputs of the function.\n",
    "\n",
    "**Note:** You might need to go back and forth during your implementation of the code. The structure is set up to make implementation easier, but how you return values from the different functions might vary, and you might find yourself going back and change something to make it easier later on."
   ]
  },
  {
   "cell_type": "markdown",
   "metadata": {},
   "source": [
    "## Assignment preparations"
   ]
  },
  {
   "cell_type": "markdown",
   "metadata": {},
   "source": [
    "We help you out with importing the libraries and reading the data.\n",
    "\n",
    "Look at the output to get an idea of how the data is structured."
   ]
  },
  {
   "cell_type": "code",
   "execution_count": 1,
   "metadata": {},
   "outputs": [],
   "source": [
    "import numpy as np\n",
    "import pandas as pd\n",
    "import matplotlib.pyplot as plt\n",
    "from colorama import Fore, Style\n",
    "from math import e, pi, sqrt"
   ]
  },
  {
   "cell_type": "code",
   "execution_count": 2,
   "metadata": {},
   "outputs": [
    {
     "name": "stdout",
     "output_type": "stream",
     "text": [
      "Le tableau complet (quelques lignes) :\n",
      "[[5.7 3.0 4.2 1.2 1]\n",
      " [5.8 2.7 5.1 1.9 2]\n",
      " [5.7 2.8 4.5 1.3 1]\n",
      " [6.2 2.9 4.3 1.3 1]\n",
      " [6.0 2.2 5.0 1.5 2]]\n",
      "mapped = ['Iris-setosa' 'Iris-versicolor' 'Iris-virginica']\n",
      "index = [  0  50 100]\n"
     ]
    }
   ],
   "source": [
    "data = pd.read_csv(\"iris.csv\").to_numpy()\n",
    "\n",
    "mapped, index, unique_arr = np.unique(data[:, -1], return_index=True, return_inverse=True)\n",
    "data[:, -1] = unique_arr\n",
    "np.random.shuffle(data)\n",
    "\n",
    "print(\"Le tableau complet (quelques lignes) :\")\n",
    "print(data[:5])\n",
    "print(\"mapped =\", mapped)\n",
    "print(\"index =\", index)"
   ]
  },
  {
   "cell_type": "markdown",
   "metadata": {},
   "source": [
    "# Definition of data class"
   ]
  },
  {
   "cell_type": "code",
   "execution_count": 3,
   "metadata": {},
   "outputs": [],
   "source": [
    "class Data_set:\n",
    "    def __init__(self, name):\n",
    "        self.name = name\n",
    "        self.data = None     # shape (N,5) => 4 features + 1 label\n",
    "        self.features = None # shape (N,4)\n",
    "        self.labels = None   # shape (N,)\n",
    "        # Pour Naive Bayes\n",
    "        self.means = None\n",
    "        self.std_devs = None\n",
    "        self.prior = None\n",
    "\n",
    "    def class_split(self):\n",
    "        \"\"\"\n",
    "        Sépare self.data en 2 tableaux : self.features (les 4 1ères colonnes)\n",
    "        et self.labels (la dernière colonne).\n",
    "        \"\"\"\n",
    "        if self.data is None:\n",
    "            print(f\"[{self.name}] Pas de data !\")\n",
    "            return\n",
    "        self.features = self.data[:, :-1].astype(float)\n",
    "        self.labels   = self.data[:, -1].astype(int)\n",
    "\n",
    "    def display_features_and_labels(self):\n",
    "        print(f\"{self.name}: Features ->\\n\", self.features)\n",
    "        print(f\"{self.name}: Labels   ->\\n\", self.labels)"
   ]
  },
  {
   "cell_type": "code",
   "execution_count": 4,
   "metadata": {},
   "outputs": [],
   "source": [
    "class Flower:\n",
    "    def __init__(self, name):\n",
    "        self.name = name\n",
    "        self.data = None   # Les données brutes (N,5)\n",
    "        self.test_size = 0.2\n",
    "        self.train = Data_set(name + \" Train\")\n",
    "        self.test  = Data_set(name + \" Test\")\n",
    "\n",
    "    def train_test_split(self):\n",
    "        \"\"\"\n",
    "        Sépare self.data en un train set et un test set selon test_size.\n",
    "        \"\"\"\n",
    "        if self.data is None:\n",
    "            print(f\"[{self.name}] Pas de data pour split !\")\n",
    "            return\n",
    "\n",
    "        N = len(self.data)\n",
    "        split_index = int(N * (1 - self.test_size))\n",
    "        self.train.data = self.data[:split_index]\n",
    "        self.test.data  = self.data[split_index:]\n",
    "\n",
    "    def display_training(self):\n",
    "        \"\"\"\n",
    "        Affiche la séparation brute (avant split en features/labels).\n",
    "        \"\"\"\n",
    "        print(Fore.RED + self.name + Style.RESET_ALL)\n",
    "        print(\"=== TRAIN DATA ===\")\n",
    "        print(self.train.data)\n",
    "        print(\"=== TEST DATA ===\")\n",
    "        print(self.test.data)\n",
    "\n",
    "    def class_split_automation(self):\n",
    "        \"\"\"\n",
    "        Automatisation : appelle la fonction class_split() sur le train et test,\n",
    "        puis affiche pour vérification.\n",
    "        \"\"\"\n",
    "        print(Fore.RED + self.name + Style.RESET_ALL)\n",
    "        self.train.class_split()\n",
    "        self.test.class_split()\n",
    "        self.train.display_features_and_labels()\n",
    "        self.test.display_features_and_labels()"
   ]
  },
  {
   "cell_type": "code",
   "execution_count": 5,
   "metadata": {},
   "outputs": [
    {
     "name": "stdout",
     "output_type": "stream",
     "text": [
      "\n",
      "--- Aperçu de la classe Setosa (3 premières lignes) ---\n",
      "[[5.7 3.0 4.2 1.2 1]\n",
      " [5.8 2.7 5.1 1.9 2]\n",
      " [5.7 2.8 4.5 1.3 1]]\n"
     ]
    }
   ],
   "source": [
    "iris_setosa = Flower(\"Setosa\")\n",
    "iris_versicolor = Flower(\"Versicolor\")\n",
    "iris_virginica  = Flower(\"Virginica\")\n",
    "\n",
    "# On sépare : setosa.data, versicolor.data, virginica.data\n",
    "# à l'aide des index qu'on a trouvés (index[1:] = positions où les classes changent)\n",
    "iris_setosa.data, iris_versicolor.data, iris_virginica.data = np.split(data, index[1:])\n",
    "\n",
    "# Petit aperçu\n",
    "print(\"\\n--- Aperçu de la classe Setosa (3 premières lignes) ---\")\n",
    "print(iris_setosa.data[:3])"
   ]
  },
  {
   "cell_type": "markdown",
   "metadata": {},
   "source": [
    "## Data handling functions\n",
    "\n",
    "As a start, we are going to implement some basic data handling functions to use in the future."
   ]
  },
  {
   "cell_type": "markdown",
   "metadata": {},
   "source": [
    "### 1) Split class into a train and test set\n",
    "\n",
    "First, we need to be able to split the class into a train and test set."
   ]
  },
  {
   "cell_type": "code",
   "execution_count": 6,
   "metadata": {},
   "outputs": [
    {
     "name": "stdout",
     "output_type": "stream",
     "text": [
      "\u001b[31mSetosa\u001b[0m\n",
      "=== TRAIN DATA ===\n",
      "[[5.7 3.0 4.2 1.2 1]\n",
      " [5.8 2.7 5.1 1.9 2]\n",
      " [5.7 2.8 4.5 1.3 1]\n",
      " [6.2 2.9 4.3 1.3 1]\n",
      " [6.0 2.2 5.0 1.5 2]\n",
      " [6.4 2.9 4.3 1.3 1]\n",
      " [5.8 2.7 4.1 1.0 1]\n",
      " [5.0 3.4 1.5 0.2 0]\n",
      " [6.3 2.9 5.6 1.8 2]\n",
      " [6.3 3.3 6.0 2.5 2]\n",
      " [6.1 2.8 4.7 1.2 1]\n",
      " [7.6 3.0 6.6 2.1 2]\n",
      " [4.4 3.2 1.3 0.2 0]\n",
      " [6.3 2.5 5.0 1.9 2]\n",
      " [5.2 2.7 3.9 1.4 1]\n",
      " [5.6 2.5 3.9 1.1 1]\n",
      " [6.8 3.0 5.5 2.1 2]\n",
      " [6.7 3.0 5.2 2.3 2]\n",
      " [6.7 3.3 5.7 2.1 2]\n",
      " [6.5 3.0 5.5 1.8 2]\n",
      " [6.1 2.9 4.7 1.4 1]\n",
      " [5.5 2.6 4.4 1.2 1]\n",
      " [6.3 3.3 4.7 1.6 1]\n",
      " [5.1 3.8 1.6 0.2 0]\n",
      " [6.1 3.0 4.6 1.4 1]\n",
      " [7.2 3.6 6.1 2.5 2]\n",
      " [6.5 3.0 5.2 2.0 2]\n",
      " [4.9 2.5 4.5 1.7 2]\n",
      " [5.1 2.5 3.0 1.1 1]\n",
      " [5.4 3.4 1.7 0.2 0]\n",
      " [6.7 3.0 5.0 1.7 1]\n",
      " [4.7 3.2 1.3 0.2 0]\n",
      " [7.3 2.9 6.3 1.8 2]\n",
      " [6.7 3.1 5.6 2.4 2]\n",
      " [6.6 2.9 4.6 1.3 1]\n",
      " [5.1 3.5 1.4 0.2 0]\n",
      " [7.2 3.0 5.8 1.6 2]\n",
      " [5.2 3.5 1.5 0.2 0]\n",
      " [4.8 3.0 1.4 0.1 0]\n",
      " [5.8 2.8 5.1 2.4 2]]\n",
      "=== TEST DATA ===\n",
      "[[4.9 3.1 1.5 0.1 0]\n",
      " [5.6 2.9 3.6 1.3 1]\n",
      " [5.1 3.4 1.5 0.2 0]\n",
      " [5.9 3.0 4.2 1.5 1]\n",
      " [5.7 2.6 3.5 1.0 1]\n",
      " [6.3 2.8 5.1 1.5 2]\n",
      " [6.9 3.2 5.7 2.3 2]\n",
      " [7.2 3.2 6.0 1.8 2]\n",
      " [6.5 3.0 5.8 2.2 2]\n",
      " [5.5 3.5 1.3 0.2 0]]\n",
      "\u001b[31mVersicolor\u001b[0m\n",
      "=== TRAIN DATA ===\n",
      "[[5.8 2.6 4.0 1.2 1]\n",
      " [5.7 4.4 1.5 0.4 0]\n",
      " [5.0 3.5 1.3 0.3 0]\n",
      " [5.0 3.3 1.4 0.2 0]\n",
      " [5.7 2.9 4.2 1.3 1]\n",
      " [4.8 3.4 1.6 0.2 0]\n",
      " [4.6 3.6 1.0 0.2 0]\n",
      " [4.9 3.1 1.5 0.1 0]\n",
      " [6.9 3.1 5.4 2.1 2]\n",
      " [6.3 2.7 4.9 1.8 2]\n",
      " [5.6 2.7 4.2 1.3 1]\n",
      " [5.6 2.8 4.9 2.0 2]\n",
      " [5.3 3.7 1.5 0.2 0]\n",
      " [5.2 4.1 1.5 0.1 0]\n",
      " [5.1 3.5 1.4 0.3 0]\n",
      " [5.1 3.3 1.7 0.5 0]\n",
      " [5.4 3.0 4.5 1.5 1]\n",
      " [5.6 3.0 4.1 1.3 1]\n",
      " [4.6 3.2 1.4 0.2 0]\n",
      " [6.7 2.5 5.8 1.8 2]\n",
      " [6.0 3.0 4.8 1.8 2]\n",
      " [6.5 3.2 5.1 2.0 2]\n",
      " [5.0 2.0 3.5 1.0 1]\n",
      " [7.9 3.8 6.4 2.0 2]\n",
      " [6.4 3.1 5.5 1.8 2]\n",
      " [5.9 3.0 5.1 1.8 2]\n",
      " [5.4 3.9 1.7 0.4 0]\n",
      " [5.9 3.2 4.8 1.8 1]\n",
      " [4.3 3.0 1.1 0.1 0]\n",
      " [5.6 3.0 4.5 1.5 1]\n",
      " [6.2 2.8 4.8 1.8 2]\n",
      " [6.3 2.5 4.9 1.5 1]\n",
      " [5.8 2.7 3.9 1.2 1]\n",
      " [5.0 3.5 1.6 0.6 0]\n",
      " [6.6 3.0 4.4 1.4 1]\n",
      " [4.9 2.4 3.3 1.0 1]\n",
      " [4.9 3.1 1.5 0.1 0]\n",
      " [6.2 2.2 4.5 1.5 1]\n",
      " [4.8 3.1 1.6 0.2 0]\n",
      " [6.3 2.3 4.4 1.3 1]]\n",
      "=== TEST DATA ===\n",
      "[[4.4 3.0 1.3 0.2 0]\n",
      " [5.5 2.4 3.7 1.0 1]\n",
      " [6.7 3.1 4.7 1.5 1]\n",
      " [5.8 2.7 5.1 1.9 2]\n",
      " [4.7 3.2 1.6 0.2 0]\n",
      " [4.9 3.0 1.4 0.2 0]\n",
      " [7.1 3.0 5.9 2.1 2]\n",
      " [6.2 3.4 5.4 2.3 2]\n",
      " [6.0 2.9 4.5 1.5 1]\n",
      " [5.7 2.5 5.0 2.0 2]]\n",
      "\u001b[31mVirginica\u001b[0m\n",
      "=== TRAIN DATA ===\n",
      "[[6.9 3.1 5.1 2.3 2]\n",
      " [6.0 2.7 5.1 1.6 1]\n",
      " [5.0 3.2 1.2 0.2 0]\n",
      " [7.7 2.8 6.7 2.0 2]\n",
      " [5.5 2.5 4.0 1.3 1]\n",
      " [5.5 2.4 3.8 1.1 1]\n",
      " [5.5 4.2 1.4 0.2 0]\n",
      " [5.4 3.7 1.5 0.2 0]\n",
      " [5.4 3.9 1.3 0.4 0]\n",
      " [5.7 2.8 4.1 1.3 1]\n",
      " [5.7 3.8 1.7 0.3 0]\n",
      " [7.7 3.8 6.7 2.2 2]\n",
      " [5.1 3.7 1.5 0.4 0]\n",
      " [6.4 2.7 5.3 1.9 2]\n",
      " [4.6 3.4 1.4 0.3 0]\n",
      " [6.4 3.2 4.5 1.5 1]\n",
      " [6.8 3.2 5.9 2.3 2]\n",
      " [4.8 3.4 1.9 0.2 0]\n",
      " [6.7 3.1 4.4 1.4 1]\n",
      " [6.4 2.8 5.6 2.2 2]\n",
      " [6.0 2.2 4.0 1.0 1]\n",
      " [4.8 3.0 1.4 0.3 0]\n",
      " [6.0 3.4 4.5 1.6 1]\n",
      " [4.5 2.3 1.3 0.3 0]\n",
      " [6.1 3.0 4.9 1.8 2]\n",
      " [6.8 2.8 4.8 1.4 1]\n",
      " [5.1 3.8 1.5 0.3 0]\n",
      " [6.1 2.8 4.0 1.3 1]\n",
      " [6.1 2.6 5.6 1.4 2]\n",
      " [5.2 3.4 1.4 0.2 0]\n",
      " [5.0 2.3 3.3 1.0 1]\n",
      " [5.5 2.3 4.0 1.3 1]\n",
      " [6.4 3.2 5.3 2.3 2]\n",
      " [6.4 2.8 5.6 2.1 2]\n",
      " [5.8 4.0 1.2 0.2 0]\n",
      " [6.3 3.4 5.6 2.4 2]\n",
      " [4.4 2.9 1.4 0.2 0]\n",
      " [7.7 3.0 6.1 2.3 2]\n",
      " [5.0 3.4 1.6 0.4 0]\n",
      " [6.5 2.8 4.6 1.5 1]]\n",
      "=== TEST DATA ===\n",
      "[[7.4 2.8 6.1 1.9 2]\n",
      " [5.0 3.6 1.4 0.2 0]\n",
      " [5.0 3.0 1.6 0.2 0]\n",
      " [7.7 2.6 6.9 2.3 2]\n",
      " [5.4 3.4 1.5 0.4 0]\n",
      " [7.0 3.2 4.7 1.4 1]\n",
      " [6.9 3.1 4.9 1.5 1]\n",
      " [4.6 3.1 1.5 0.2 0]\n",
      " [5.1 3.8 1.9 0.4 0]\n",
      " [6.7 3.3 5.7 2.5 2]]\n"
     ]
    }
   ],
   "source": [
    "iris_setosa.train_test_split()\n",
    "iris_versicolor.train_test_split()\n",
    "iris_virginica.train_test_split()\n",
    "\n",
    "# Test d'affichage\n",
    "iris_setosa.display_training()\n",
    "iris_versicolor.display_training()\n",
    "iris_virginica.display_training()"
   ]
  },
  {
   "cell_type": "markdown",
   "metadata": {},
   "source": [
    "### 2) Split data into features and labels\n",
    "\n",
    "The data as shown above is not always the optimal shape. To help us keep track of things, we can split the data into its features and labels seperately.\n",
    "\n",
    "Each class is 4 features and 1 label in the same array: \n",
    "\n",
    "* **[feature 1, feature 2, feature 3, feature 4, label]**\n",
    "\n",
    "It would help us later to have the features and labels in seperate arrays in the form: \n",
    "\n",
    "* **[feature 1, feature 2, feature 3, feature 4]** and **[label]**\n",
    "\n",
    "Here you are going to implement this functionallity."
   ]
  },
  {
   "cell_type": "markdown",
   "metadata": {},
   "source": [
    "We should first test the \"**class_split**\" function on one of the classes above (iris_setosa, etc...) to make sure it works properly."
   ]
  },
  {
   "cell_type": "code",
   "execution_count": 7,
   "metadata": {},
   "outputs": [
    {
     "name": "stdout",
     "output_type": "stream",
     "text": [
      "\n",
      "--- Après class_split_automation() ---\n",
      "\u001b[31mSetosa\u001b[0m\n",
      "Setosa Train: Features ->\n",
      " [[5.7 3.  4.2 1.2]\n",
      " [5.8 2.7 5.1 1.9]\n",
      " [5.7 2.8 4.5 1.3]\n",
      " [6.2 2.9 4.3 1.3]\n",
      " [6.  2.2 5.  1.5]\n",
      " [6.4 2.9 4.3 1.3]\n",
      " [5.8 2.7 4.1 1. ]\n",
      " [5.  3.4 1.5 0.2]\n",
      " [6.3 2.9 5.6 1.8]\n",
      " [6.3 3.3 6.  2.5]\n",
      " [6.1 2.8 4.7 1.2]\n",
      " [7.6 3.  6.6 2.1]\n",
      " [4.4 3.2 1.3 0.2]\n",
      " [6.3 2.5 5.  1.9]\n",
      " [5.2 2.7 3.9 1.4]\n",
      " [5.6 2.5 3.9 1.1]\n",
      " [6.8 3.  5.5 2.1]\n",
      " [6.7 3.  5.2 2.3]\n",
      " [6.7 3.3 5.7 2.1]\n",
      " [6.5 3.  5.5 1.8]\n",
      " [6.1 2.9 4.7 1.4]\n",
      " [5.5 2.6 4.4 1.2]\n",
      " [6.3 3.3 4.7 1.6]\n",
      " [5.1 3.8 1.6 0.2]\n",
      " [6.1 3.  4.6 1.4]\n",
      " [7.2 3.6 6.1 2.5]\n",
      " [6.5 3.  5.2 2. ]\n",
      " [4.9 2.5 4.5 1.7]\n",
      " [5.1 2.5 3.  1.1]\n",
      " [5.4 3.4 1.7 0.2]\n",
      " [6.7 3.  5.  1.7]\n",
      " [4.7 3.2 1.3 0.2]\n",
      " [7.3 2.9 6.3 1.8]\n",
      " [6.7 3.1 5.6 2.4]\n",
      " [6.6 2.9 4.6 1.3]\n",
      " [5.1 3.5 1.4 0.2]\n",
      " [7.2 3.  5.8 1.6]\n",
      " [5.2 3.5 1.5 0.2]\n",
      " [4.8 3.  1.4 0.1]\n",
      " [5.8 2.8 5.1 2.4]]\n",
      "Setosa Train: Labels   ->\n",
      " [1 2 1 1 2 1 1 0 2 2 1 2 0 2 1 1 2 2 2 2 1 1 1 0 1 2 2 2 1 0 1 0 2 2 1 0 2\n",
      " 0 0 2]\n",
      "Setosa Test: Features ->\n",
      " [[4.9 3.1 1.5 0.1]\n",
      " [5.6 2.9 3.6 1.3]\n",
      " [5.1 3.4 1.5 0.2]\n",
      " [5.9 3.  4.2 1.5]\n",
      " [5.7 2.6 3.5 1. ]\n",
      " [6.3 2.8 5.1 1.5]\n",
      " [6.9 3.2 5.7 2.3]\n",
      " [7.2 3.2 6.  1.8]\n",
      " [6.5 3.  5.8 2.2]\n",
      " [5.5 3.5 1.3 0.2]]\n",
      "Setosa Test: Labels   ->\n",
      " [0 1 0 1 1 2 2 2 2 0]\n",
      "\u001b[31mVersicolor\u001b[0m\n",
      "Versicolor Train: Features ->\n",
      " [[5.8 2.6 4.  1.2]\n",
      " [5.7 4.4 1.5 0.4]\n",
      " [5.  3.5 1.3 0.3]\n",
      " [5.  3.3 1.4 0.2]\n",
      " [5.7 2.9 4.2 1.3]\n",
      " [4.8 3.4 1.6 0.2]\n",
      " [4.6 3.6 1.  0.2]\n",
      " [4.9 3.1 1.5 0.1]\n",
      " [6.9 3.1 5.4 2.1]\n",
      " [6.3 2.7 4.9 1.8]\n",
      " [5.6 2.7 4.2 1.3]\n",
      " [5.6 2.8 4.9 2. ]\n",
      " [5.3 3.7 1.5 0.2]\n",
      " [5.2 4.1 1.5 0.1]\n",
      " [5.1 3.5 1.4 0.3]\n",
      " [5.1 3.3 1.7 0.5]\n",
      " [5.4 3.  4.5 1.5]\n",
      " [5.6 3.  4.1 1.3]\n",
      " [4.6 3.2 1.4 0.2]\n",
      " [6.7 2.5 5.8 1.8]\n",
      " [6.  3.  4.8 1.8]\n",
      " [6.5 3.2 5.1 2. ]\n",
      " [5.  2.  3.5 1. ]\n",
      " [7.9 3.8 6.4 2. ]\n",
      " [6.4 3.1 5.5 1.8]\n",
      " [5.9 3.  5.1 1.8]\n",
      " [5.4 3.9 1.7 0.4]\n",
      " [5.9 3.2 4.8 1.8]\n",
      " [4.3 3.  1.1 0.1]\n",
      " [5.6 3.  4.5 1.5]\n",
      " [6.2 2.8 4.8 1.8]\n",
      " [6.3 2.5 4.9 1.5]\n",
      " [5.8 2.7 3.9 1.2]\n",
      " [5.  3.5 1.6 0.6]\n",
      " [6.6 3.  4.4 1.4]\n",
      " [4.9 2.4 3.3 1. ]\n",
      " [4.9 3.1 1.5 0.1]\n",
      " [6.2 2.2 4.5 1.5]\n",
      " [4.8 3.1 1.6 0.2]\n",
      " [6.3 2.3 4.4 1.3]]\n",
      "Versicolor Train: Labels   ->\n",
      " [1 0 0 0 1 0 0 0 2 2 1 2 0 0 0 0 1 1 0 2 2 2 1 2 2 2 0 1 0 1 2 1 1 0 1 1 0\n",
      " 1 0 1]\n",
      "Versicolor Test: Features ->\n",
      " [[4.4 3.  1.3 0.2]\n",
      " [5.5 2.4 3.7 1. ]\n",
      " [6.7 3.1 4.7 1.5]\n",
      " [5.8 2.7 5.1 1.9]\n",
      " [4.7 3.2 1.6 0.2]\n",
      " [4.9 3.  1.4 0.2]\n",
      " [7.1 3.  5.9 2.1]\n",
      " [6.2 3.4 5.4 2.3]\n",
      " [6.  2.9 4.5 1.5]\n",
      " [5.7 2.5 5.  2. ]]\n",
      "Versicolor Test: Labels   ->\n",
      " [0 1 1 2 0 0 2 2 1 2]\n",
      "\u001b[31mVirginica\u001b[0m\n",
      "Virginica Train: Features ->\n",
      " [[6.9 3.1 5.1 2.3]\n",
      " [6.  2.7 5.1 1.6]\n",
      " [5.  3.2 1.2 0.2]\n",
      " [7.7 2.8 6.7 2. ]\n",
      " [5.5 2.5 4.  1.3]\n",
      " [5.5 2.4 3.8 1.1]\n",
      " [5.5 4.2 1.4 0.2]\n",
      " [5.4 3.7 1.5 0.2]\n",
      " [5.4 3.9 1.3 0.4]\n",
      " [5.7 2.8 4.1 1.3]\n",
      " [5.7 3.8 1.7 0.3]\n",
      " [7.7 3.8 6.7 2.2]\n",
      " [5.1 3.7 1.5 0.4]\n",
      " [6.4 2.7 5.3 1.9]\n",
      " [4.6 3.4 1.4 0.3]\n",
      " [6.4 3.2 4.5 1.5]\n",
      " [6.8 3.2 5.9 2.3]\n",
      " [4.8 3.4 1.9 0.2]\n",
      " [6.7 3.1 4.4 1.4]\n",
      " [6.4 2.8 5.6 2.2]\n",
      " [6.  2.2 4.  1. ]\n",
      " [4.8 3.  1.4 0.3]\n",
      " [6.  3.4 4.5 1.6]\n",
      " [4.5 2.3 1.3 0.3]\n",
      " [6.1 3.  4.9 1.8]\n",
      " [6.8 2.8 4.8 1.4]\n",
      " [5.1 3.8 1.5 0.3]\n",
      " [6.1 2.8 4.  1.3]\n",
      " [6.1 2.6 5.6 1.4]\n",
      " [5.2 3.4 1.4 0.2]\n",
      " [5.  2.3 3.3 1. ]\n",
      " [5.5 2.3 4.  1.3]\n",
      " [6.4 3.2 5.3 2.3]\n",
      " [6.4 2.8 5.6 2.1]\n",
      " [5.8 4.  1.2 0.2]\n",
      " [6.3 3.4 5.6 2.4]\n",
      " [4.4 2.9 1.4 0.2]\n",
      " [7.7 3.  6.1 2.3]\n",
      " [5.  3.4 1.6 0.4]\n",
      " [6.5 2.8 4.6 1.5]]\n",
      "Virginica Train: Labels   ->\n",
      " [2 1 0 2 1 1 0 0 0 1 0 2 0 2 0 1 2 0 1 2 1 0 1 0 2 1 0 1 2 0 1 1 2 2 0 2 0\n",
      " 2 0 1]\n",
      "Virginica Test: Features ->\n",
      " [[7.4 2.8 6.1 1.9]\n",
      " [5.  3.6 1.4 0.2]\n",
      " [5.  3.  1.6 0.2]\n",
      " [7.7 2.6 6.9 2.3]\n",
      " [5.4 3.4 1.5 0.4]\n",
      " [7.  3.2 4.7 1.4]\n",
      " [6.9 3.1 4.9 1.5]\n",
      " [4.6 3.1 1.5 0.2]\n",
      " [5.1 3.8 1.9 0.4]\n",
      " [6.7 3.3 5.7 2.5]]\n",
      "Virginica Test: Labels   ->\n",
      " [2 0 0 2 0 1 1 0 0 2]\n"
     ]
    }
   ],
   "source": [
    "print(\"\\n--- Après class_split_automation() ---\")\n",
    "iris_setosa.class_split_automation()\n",
    "iris_versicolor.class_split_automation()\n",
    "iris_virginica.class_split_automation()"
   ]
  },
  {
   "cell_type": "markdown",
   "metadata": {},
   "source": [
    "We should also try to **1)** first split a class into a train and test set, **2)** split each of these two into features and abels. In total there should be 4 arrays (2 feature and 2 label arrays)."
   ]
  },
  {
   "cell_type": "markdown",
   "metadata": {},
   "source": [
    "Think a bit before going to the next task, what can easily go wrong in the above code?"
   ]
  },
  {
   "cell_type": "markdown",
   "metadata": {},
   "source": [
    "## Naive Bayes learning algorithm"
   ]
  },
  {
   "cell_type": "markdown",
   "metadata": {},
   "source": [
    "When implementing the Navie Bayes learning algorithm, we can break it down into a few components.\n",
    "\n",
    "We will implement these components one at a time."
   ]
  },
  {
   "cell_type": "markdown",
   "metadata": {},
   "source": [
    "### 3) Calculate feature statistics\n",
    "\n",
    "First, we need to implement a function that returns feature statistics (means, standard deviation, priors) for a given set of feature data for a single class. This is the equivalent of \"training\" the naive bayes model.\n",
    "\n",
    "**Note 1:** Each feature gets its own mean and standard deviation!\n",
    "\n",
    "**Note 2:** The way you structure the functions (what is returned) shapes the remainder of the assignment."
   ]
  },
  {
   "cell_type": "code",
   "execution_count": 8,
   "metadata": {},
   "outputs": [],
   "source": [
    "def calculate_feature_statistics(feature_data):\n",
    "    \"\"\"\n",
    "    feature_data: shape (N,4)\n",
    "    Retourne la moyenne et l'écart-type par feature (shape(4,))\n",
    "    \"\"\"\n",
    "    feature_data = np.array(feature_data, dtype=float)\n",
    "    means = np.mean(feature_data, axis=0)\n",
    "    std_devs = np.std(feature_data, axis=0, ddof=1)  # ddof=1 => écart-type échantillon\n",
    "    return means, std_devs"
   ]
  },
  {
   "cell_type": "markdown",
   "metadata": {},
   "source": [
    "To make sure the function works, we should test it before proceding."
   ]
  },
  {
   "cell_type": "code",
   "execution_count": 9,
   "metadata": {},
   "outputs": [
    {
     "name": "stdout",
     "output_type": "stream",
     "text": [
      "\n",
      "Setosa train means = [5.985  2.9825 4.26   1.385 ]\n",
      "Setosa train stds  = [0.78202564 0.33656447 1.58159284 0.72626547]\n"
     ]
    }
   ],
   "source": [
    "iris_setosa.train.means, iris_setosa.train.std_devs = calculate_feature_statistics(iris_setosa.train.features)\n",
    "iris_versicolor.train.means, iris_versicolor.train.std_devs = calculate_feature_statistics(iris_versicolor.train.features)\n",
    "iris_virginica.train.means, iris_virginica.train.std_devs = calculate_feature_statistics(iris_virginica.train.features)\n",
    "\n",
    "print(f\"\\nSetosa train means = {iris_setosa.train.means}\")\n",
    "print(f\"Setosa train stds  = {iris_setosa.train.std_devs}\")"
   ]
  },
  {
   "cell_type": "markdown",
   "metadata": {},
   "source": [
    "### 4) Gaussian probability density function (Gaussian PDF)\n",
    "\n",
    "Now we need to implement the gaussian probability density function to use for a single datapoint.\n",
    "\n",
    "**Note:** Look at the imports in the first cell at the top, it has some math numbers for easy use here. "
   ]
  },
  {
   "cell_type": "code",
   "execution_count": 10,
   "metadata": {},
   "outputs": [],
   "source": [
    "def gaussian_probability_density_function(x, means, stdevs):\n",
    "    \"\"\"\n",
    "    x: shape(4,) => un seul datapoint\n",
    "    means, stdevs: shape(4,)\n",
    "    Retourne la PDF = produit de la PDF gaussienne sur chaque feature.\n",
    "    \"\"\"\n",
    "    # On évite la division par zéro\n",
    "    stdevs_no_zero = np.where(stdevs==0, 1e-6, stdevs)\n",
    "    #stdevs_no_zero = np.where(stdevs==0, np.mean(stdevs), stdevs)\n",
    "\n",
    "    exponent = np.exp(-((x - means) ** 2) / (2 * stdevs_no_zero**2))\n",
    "    coeff    = 1 / (np.sqrt(2*pi) * stdevs_no_zero)\n",
    "    pdf_vals = coeff * exponent\n",
    "    # On multiplie sur les 4 features => scalaire\n",
    "    return np.prod(pdf_vals)"
   ]
  },
  {
   "cell_type": "markdown",
   "metadata": {},
   "source": [
    "### 5) Testing Gaussian PDF"
   ]
  },
  {
   "cell_type": "markdown",
   "metadata": {},
   "source": [
    "We should test it to make sure it works. Train it, using the \"calculate_feature_statistics\" function, on one of the dataset classes. Then, take one datapoint from the same class and use naive bayes gaussian to make a prediction."
   ]
  },
  {
   "cell_type": "code",
   "execution_count": 11,
   "metadata": {},
   "outputs": [
    {
     "name": "stdout",
     "output_type": "stream",
     "text": [
      "\n",
      "Exemple PDF sur un point setosa: 0.07574099567829007\n",
      "Exemple PDF sur un point versicolor (mais stats setosa): 0.040792868553127914\n"
     ]
    }
   ],
   "source": [
    "sample_x = iris_setosa.train.features[0]\n",
    "pdf_value = gaussian_probability_density_function(sample_x,\n",
    "                                                  iris_setosa.train.means,\n",
    "                                                  iris_setosa.train.std_devs)\n",
    "print(f\"\\nExemple PDF sur un point setosa: {pdf_value}\")\n",
    "\n",
    "# Compare avec un point d'une autre classe\n",
    "sample_x_other = iris_versicolor.train.features[0]\n",
    "pdf_value_other = gaussian_probability_density_function(sample_x_other,\n",
    "                                                        iris_setosa.train.means,\n",
    "                                                        iris_setosa.train.std_devs)\n",
    "print(f\"Exemple PDF sur un point versicolor (mais stats setosa): {pdf_value_other}\")"
   ]
  },
  {
   "cell_type": "markdown",
   "metadata": {},
   "source": [
    "As a test, take one datapoint from one of the other classes and see if the predicted probability changes."
   ]
  },
  {
   "cell_type": "markdown",
   "metadata": {},
   "source": [
    "Think a bit why the probability changes, what could affect the prediction?"
   ]
  },
  {
   "cell_type": "markdown",
   "metadata": {},
   "source": [
    "## Prepare Naive Bayes for binary classification"
   ]
  },
  {
   "cell_type": "markdown",
   "metadata": {},
   "source": [
    "### 6) Prepare the data for inference\n",
    "\n",
    "Before we train and test the naive bayes for multiple classes, we should get our data in order.\n",
    "\n",
    "Similar to how we did previously, we should now split two classes into a train and test set, you may choose which two classes freely."
   ]
  },
  {
   "cell_type": "markdown",
   "metadata": {},
   "source": [
    "### 7) Class A vs Class B for binary classification\n",
    "\n",
    "**Note:** You might need to go back and forth a bit in the following cells during your implementation of your code.\n",
    "\n",
    "We have to get the probability from two sets of classes and compare the two probabilities in order to make a propper prediction.\n",
    "\n",
    "Here we will implement two functions to make this possible. We seperate these functions to make the implementation of the ROC-curve easier later on.\n",
    "\n",
    "**Function 1: naive_bayes_prediction** \n",
    "* A function that returns the probabilities for each class the model for a single datapoint.\n",
    "\n",
    "**Function 2: probabilities_to_prediction**\n",
    "* A function that takes in probabilities and returns a prediction."
   ]
  },
  {
   "cell_type": "code",
   "execution_count": 12,
   "metadata": {},
   "outputs": [],
   "source": [
    "def naive_bayes_prediction(means, std_devs, prior, x):\n",
    "    \"\"\"\n",
    "    Calcule la vraisemblance P(x | classe) * prior\n",
    "    = gaussian_probability_density_function(x, means, std_devs) * prior\n",
    "    \"\"\"\n",
    "    likelihood = gaussian_probability_density_function(x, means, std_devs)\n",
    "    return prior * likelihood"
   ]
  },
  {
   "cell_type": "code",
   "execution_count": 13,
   "metadata": {},
   "outputs": [],
   "source": [
    "def probabilities_to_prediction(probA, probB):\n",
    "    \"\"\"\n",
    "    Retourne la \"classe\" (0 ou 1) selon la plus grande prob.\n",
    "    probA correspond à la classe A, probB à la classe B\n",
    "    \"\"\"\n",
    "    return 0 if probA > probB else 1"
   ]
  },
  {
   "cell_type": "markdown",
   "metadata": {},
   "source": [
    "To test the function we need the feature metrics from the classes we choose. \n",
    "\n",
    "**Note:** Choose the correct train/test set and the correct feature/label split!"
   ]
  },
  {
   "cell_type": "code",
   "execution_count": 14,
   "metadata": {},
   "outputs": [],
   "source": [
    "# TODO: Get the feature metrics for the classes."
   ]
  },
  {
   "cell_type": "markdown",
   "metadata": {},
   "source": [
    "Now we should have implemented all the neccessary parts to train a naive bayes algorithm and do inference on it. Implement a small test workflow for two of your chosen classes."
   ]
  },
  {
   "cell_type": "code",
   "execution_count": 15,
   "metadata": {},
   "outputs": [
    {
     "name": "stdout",
     "output_type": "stream",
     "text": [
      "\n",
      "Setosa prior = 0.33\n",
      "Versicolor prior = 0.33\n"
     ]
    }
   ],
   "source": [
    "# TODO: Test the \"naive_bayes_prediction\" function and implement all neccessary code for it to work.\n",
    "\n",
    "# TODO: Print the predicted class and the actual class for the test set\n",
    "\n",
    "n_setosa = len(iris_setosa.train.features)\n",
    "n_versi  = len(iris_versicolor.train.features)\n",
    "n_virgi  = len(iris_virginica.train.features)\n",
    "\n",
    "total    = n_setosa + n_versi + n_virgi\n",
    "\n",
    "iris_setosa.train.prior = n_setosa / total\n",
    "iris_versicolor.train.prior = n_versi / total\n",
    "\n",
    "print(f\"\\nSetosa prior = {iris_setosa.train.prior:.2f}\")\n",
    "print(f\"Versicolor prior = {iris_versicolor.train.prior:.2f}\")\n",
    "\n",
    "# On suppose A=Setosa => label=0, B=Versicolor => label=1 (ou inverse, peu importe, il faut être cohérent plus tard)"
   ]
  },
  {
   "cell_type": "markdown",
   "metadata": {},
   "source": [
    "## ROC-curve\n",
    "\n",
    "A ROC curve, or *Receiver Operating Characteristic curve*, is a graphical plot that illustrates the performance of a binary classifier such as our Naive Bayes model.\n",
    "\n",
    "More info can be found in the course material and here: [https://en.wikipedia.org/wiki/Receiver_operating_characteristic](https://en.wikipedia.org/wiki/Receiver_operating_characteristic)\n",
    "\n",
    "Another good illustration by Google can be found here: [https://developers.google.com/machine-learning/crash-course/classification/roc-and-auc](https://developers.google.com/machine-learning/crash-course/classification/roc-and-auc)\n",
    "\n",
    "Now that we have a prediction model, we would want to try it out and test it using a ROC-curve."
   ]
  },
  {
   "cell_type": "markdown",
   "metadata": {},
   "source": [
    "### 8) True Positive Rate (TPR) and False Positive Rate (FPR)\n",
    "\n",
    "From our prediction function we get probabilities, and for prediction purposes we have just predicted the one with the highest probability.\n",
    "\n",
    "To plot a ROC-curve, we need the TPR and FPR for the binary classification. We will implement this here.\n",
    "\n",
    "**Note 1:** The threshold is is a value that goes from 0 to 1. \n",
    "\n",
    "**Note 2:** One of the two classes will be seen as \"the positive class\" (prediction over the threshold) and the other as \"the negative class\" (prediction under the threshold).\n",
    "\n",
    "**Note 3:** The threshold stepsize will decide the size of the returned TPR/FPR list. A value of 0.1 will give 10 elements (0 to 1 in increments of 0.1)"
   ]
  },
  {
   "cell_type": "code",
   "execution_count": 16,
   "metadata": {},
   "outputs": [],
   "source": [
    "def TPR_and_FPR(prediction_probabilities, test_labels, threshold_stepsize=0.1):\n",
    "    \"\"\"\n",
    "    prediction_probabilities: liste de probas d'être la classe \"positive\" (1)\n",
    "    test_labels: 1 => positive, 0 => negative\n",
    "    \"\"\"\n",
    "    thresholds = np.arange(0, 1+threshold_stepsize, threshold_stepsize)\n",
    "    TPR_list = []\n",
    "    FPR_list = []\n",
    "\n",
    "    for thresh in thresholds:\n",
    "        # predicted=1 si prob >= thresh\n",
    "        predicted = (np.array(prediction_probabilities) >= thresh).astype(int)\n",
    "\n",
    "        TP = np.sum((predicted==1) & (test_labels==1))\n",
    "        FP = np.sum((predicted==1) & (test_labels==0))\n",
    "        TN = np.sum((predicted==0) & (test_labels==0))\n",
    "        FN = np.sum((predicted==0) & (test_labels==1))\n",
    "\n",
    "        tpr = TP / (TP+FN) if (TP+FN)>0 else 0\n",
    "        fpr = FP / (FP+TN) if (FP+TN)>0 else 0\n",
    "\n",
    "        TPR_list.append(tpr)\n",
    "        FPR_list.append(fpr)\n",
    "\n",
    "    return TPR_list, FPR_list"
   ]
  },
  {
   "cell_type": "code",
   "execution_count": 17,
   "metadata": {},
   "outputs": [],
   "source": [
    "# TODO: Test the \"TPR_and_FPR\" function on the model you have created previously."
   ]
  },
  {
   "cell_type": "markdown",
   "metadata": {},
   "source": [
    "How does the values change if you change the threshold stepsize? \n",
    "\n",
    "How does the values change if you change the classes you compare?"
   ]
  },
  {
   "cell_type": "markdown",
   "metadata": {},
   "source": [
    "### 9) Plot the TPR and FPR\n",
    "\n",
    "To better see what is going on, we can plot the TPR and FPR. We can also calculate the Area Under the ROC Curve (AUC or AUROC) at the same time."
   ]
  },
  {
   "cell_type": "code",
   "execution_count": 18,
   "metadata": {},
   "outputs": [],
   "source": [
    "def plot_ROC(TPR, FPR):\n",
    "    \"\"\"\n",
    "    Trace la courbe ROC en fonction de FPR, TPR et calcule l'AUC.\n",
    "    \"\"\"\n",
    "    # Tri par FPR\n",
    "    sorted_pairs = sorted(zip(FPR, TPR), key=lambda x: x[0])\n",
    "    FPR_sorted, TPR_sorted = zip(*sorted_pairs)\n",
    "    # AUC via trapz\n",
    "    auc = np.trapezoid(TPR_sorted, x=FPR_sorted)\n",
    "\n",
    "    plt.figure()\n",
    "    plt.plot(FPR_sorted, TPR_sorted, label=f\"ROC (AUC={auc:.2f})\")\n",
    "    plt.plot([0,1],[0,1],'r--',label=\"Random\")\n",
    "    plt.xlabel(\"False Positive Rate\")\n",
    "    plt.ylabel(\"True Positive Rate\")\n",
    "    plt.title(\"ROC Curve\")\n",
    "    plt.legend()\n",
    "    plt.grid(True)\n",
    "    plt.show()\n",
    "    print(f\"AUC = {auc:.3f}\")\n"
   ]
  },
  {
   "cell_type": "code",
   "execution_count": 19,
   "metadata": {},
   "outputs": [
    {
     "data": {
      "image/png": "[encoded data removed]",
      "text/plain": [
       "<Figure size 640x480 with 1 Axes>"
      ]
     },
     "metadata": {},
     "output_type": "display_data"
    },
    {
     "name": "stdout",
     "output_type": "stream",
     "text": [
      "AUC = 0.490\n"
     ]
    }
   ],
   "source": [
    "# TODO: Test the plotting function on the TPR and FPR you just calculated.\n",
    "\n",
    "common_test_features = []\n",
    "common_test_labels   = []  # 1 => Versicolor, 0 => Setosa\n",
    "\n",
    "# Ajout des échantillons test de setosa => label=0\n",
    "for x in iris_setosa.test.features:\n",
    "    common_test_features.append(x)\n",
    "    common_test_labels.append(0)\n",
    "\n",
    "# Ajout des échantillons test de versicolor => label=1\n",
    "for x in iris_versicolor.test.features:\n",
    "    common_test_features.append(x)\n",
    "    common_test_labels.append(1)\n",
    "\n",
    "common_test_features = np.array(common_test_features)\n",
    "common_test_labels   = np.array(common_test_labels)\n",
    "\n",
    "# Pour chaque x, on calcule prob(=Versicolor).\n",
    "# probVersi = priorVersi * PDF(x|versi)\n",
    "# probSetosa = priorSetosa * PDF(x|setosa)\n",
    "# => le score \"positive\" = probVersi / (probSetosa+probVersi) ou juste probVersi\n",
    "#   Tant qu'on est cohérent, ça ira pour tracer la ROC.\n",
    "\n",
    "prediction_probabilities = []\n",
    "for x in common_test_features:\n",
    "    probS = naive_bayes_prediction(iris_setosa.train.means,\n",
    "                                   iris_setosa.train.std_devs,\n",
    "                                   iris_setosa.train.prior, x)\n",
    "    probV = naive_bayes_prediction(iris_versicolor.train.means,\n",
    "                                   iris_versicolor.train.std_devs,\n",
    "                                   iris_versicolor.train.prior, x)\n",
    "    # On prend la partie \"positive\" => Versicolor\n",
    "    # (on pourrait normaliser, ex. probV / (probS+probV), ou juste probV)\n",
    "    # -> Pour la ROC, un score plus élevé => plus de prob d'être Versi\n",
    "    # scoreV = probV / (probV + probS)  # normalisé\n",
    "\n",
    "    log_probS = np.log(probS) if probS > 0 else -np.inf\n",
    "    log_probV = np.log(probV) if probV > 0 else -np.inf\n",
    "\n",
    "    scoreV = np.exp(log_probV - np.logaddexp(log_probV, log_probS))\n",
    "    \n",
    "    prediction_probabilities.append(scoreV)\n",
    "\n",
    "TPR_vals, FPR_vals = TPR_and_FPR(prediction_probabilities, common_test_labels, threshold_stepsize=0.1)\n",
    "plot_ROC(TPR_vals, FPR_vals)"
   ]
  },
  {
   "cell_type": "markdown",
   "metadata": {},
   "source": [
    "## Cross-validation\n",
    "\n",
    "The final task is to take everything you have implemented so far and apply it in a cross-validation loop.\n",
    "\n",
    "**Note 1:** To better reflect a real scenarios, you should shuffle the data before doing cross-validation.\n",
    "\n",
    "**Note 2:** When using cross-validation, the interesting thing is the mean performance (mean AUC, mean accuracy, mean ROC-curve).\n",
    "\n",
    "**Note 3:** This part is a bit more free in terms of implementation, but make sure to use some of the previously implemented functions."
   ]
  },
  {
   "cell_type": "markdown",
   "metadata": {},
   "source": [
    "### 10) Cross-validation loop"
   ]
  },
  {
   "cell_type": "code",
   "execution_count": 20,
   "metadata": {},
   "outputs": [],
   "source": [
    "def cross_validation(features, labels, folds=5, threshold_stepsize=0.1):\n",
    "    \"\"\"\n",
    "    features: shape (N,4), labels: shape (N,) => 0 ou 1\n",
    "    On fait un k-fold, calcule TPR/FPR à chaque fois et on prend la moyenne.\n",
    "    \"\"\"\n",
    "    N = len(labels)\n",
    "    indices = np.arange(N)\n",
    "    np.random.shuffle(indices)\n",
    "\n",
    "    fold_size = N // folds\n",
    "    TPR_all = []\n",
    "    FPR_all = []\n",
    "\n",
    "    for i in range(folds):\n",
    "        start = i*fold_size\n",
    "        end = (i+1)*fold_size if (i<folds-1) else N\n",
    "\n",
    "        test_idx = indices[start:end]\n",
    "        train_idx = np.concatenate((indices[:start], indices[end:]))\n",
    "\n",
    "        X_test  = features[test_idx]\n",
    "        y_test  = labels[test_idx]\n",
    "        X_train = features[train_idx]\n",
    "        y_train = labels[train_idx]\n",
    "\n",
    "        # Séparer les deux classes dans X_train\n",
    "        X0 = X_train[y_train==0]\n",
    "        X1 = X_train[y_train==1]\n",
    "\n",
    "        n0 = len(X0)\n",
    "        n1 = len(X1)\n",
    "        total = n0 + n1\n",
    "\n",
    "        prior0 = n0/total\n",
    "        prior1 = n1/total\n",
    "\n",
    "        # Stats\n",
    "        m0, s0 = calculate_feature_statistics(X0)\n",
    "        m1, s1 = calculate_feature_statistics(X1)\n",
    "\n",
    "        # On calcule prob(=1) pour X_test\n",
    "        fold_scores = []\n",
    "        for x in X_test:\n",
    "            score0 = naive_bayes_prediction(m0, s0, prior0, x)\n",
    "            score1 = naive_bayes_prediction(m1, s1, prior1, x)\n",
    "            # On prend \"classe 1\" comme positive => on renvoie un score plus élevé si c'est la classe 1\n",
    "            # Normalisation\n",
    "            if (score0+score1) > 0:\n",
    "                score_pos = score1 / (score1 + score0)\n",
    "            else:\n",
    "                score_pos = 0.5\n",
    "            fold_scores.append(score_pos)\n",
    "\n",
    "        TPR_fold, FPR_fold = TPR_and_FPR(fold_scores, y_test, threshold_stepsize)\n",
    "        TPR_all.append(TPR_fold)\n",
    "        FPR_all.append(FPR_fold)\n",
    "\n",
    "    # Moyenne\n",
    "    TPR_all = np.array(TPR_all)\n",
    "    FPR_all = np.array(FPR_all)\n",
    "\n",
    "    mean_TPR = np.mean(TPR_all, axis=0)\n",
    "    mean_FPR = np.mean(FPR_all, axis=0)\n",
    "    return mean_TPR, mean_FPR"
   ]
  },
  {
   "cell_type": "markdown",
   "metadata": {},
   "source": [
    "### 11) 10-fold Cross-validation on all classes\n",
    "\n",
    "Test the \"cross_validation\" function on all the classes against eachother using 10 folds.\n",
    "\n",
    "* Iris-setosa vs Iris-versicolor\n",
    "* Iris-setosa vs Iris-virginica\n",
    "* Iris-versicolor vs Iris-virginica"
   ]
  },
  {
   "cell_type": "code",
   "execution_count": 21,
   "metadata": {},
   "outputs": [
    {
     "data": {
      "image/png": "[encoded data removed]",
      "text/plain": [
       "<Figure size 640x480 with 1 Axes>"
      ]
     },
     "metadata": {},
     "output_type": "display_data"
    },
    {
     "name": "stdout",
     "output_type": "stream",
     "text": [
      "AUC = 0.630\n"
     ]
    }
   ],
   "source": [
    "# TODO: Implement and test cross-validation function on all classes.\n",
    "X_bin = np.vstack((iris_setosa.train.features, iris_versicolor.train.features))\n",
    "y_bin = np.concatenate((\n",
    "    np.zeros(len(iris_setosa.train.features), dtype=int),\n",
    "    np.ones(len(iris_versicolor.train.features), dtype=int)\n",
    "))\n",
    "\n",
    "meanTPR, meanFPR = cross_validation(X_bin, y_bin, folds=5, threshold_stepsize=0.1)\n",
    "plot_ROC(meanTPR, meanFPR)"
   ]
  },
  {
   "cell_type": "code",
   "execution_count": 22,
   "metadata": {},
   "outputs": [
    {
     "data": {
      "image/png": "[encoded data removed]",
      "text/plain": [
       "<Figure size 640x480 with 1 Axes>"
      ]
     },
     "metadata": {},
     "output_type": "display_data"
    },
    {
     "name": "stdout",
     "output_type": "stream",
     "text": [
      "AUC = 0.583\n"
     ]
    }
   ],
   "source": [
    "# TODO: Implement and test cross-validation function on all classes.\n",
    "X_bin = np.vstack((iris_setosa.train.features, iris_virginica.train.features))\n",
    "y_bin = np.concatenate((\n",
    "    np.zeros(len(iris_setosa.train.features), dtype=int),\n",
    "    np.ones(len(iris_virginica.train.features), dtype=int)\n",
    "))\n",
    "\n",
    "meanTPR, meanFPR = cross_validation(X_bin, y_bin, folds=5, threshold_stepsize=0.1)\n",
    "plot_ROC(meanTPR, meanFPR)"
   ]
  },
  {
   "cell_type": "code",
   "execution_count": 23,
   "metadata": {},
   "outputs": [
    {
     "data": {
      "image/png": "[encoded data removed]",
      "text/plain": [
       "<Figure size 640x480 with 1 Axes>"
      ]
     },
     "metadata": {},
     "output_type": "display_data"
    },
    {
     "name": "stdout",
     "output_type": "stream",
     "text": [
      "AUC = 0.518\n"
     ]
    }
   ],
   "source": [
    "# TODO: Implement and test cross-validation function on all classes.\n",
    "X_bin = np.vstack((iris_versicolor.train.features, iris_virginica.train.features))\n",
    "y_bin = np.concatenate((\n",
    "    np.zeros(len(iris_versicolor.train.features), dtype=int),\n",
    "    np.ones(len(iris_virginica.train.features), dtype=int)\n",
    "))\n",
    "\n",
    "meanTPR, meanFPR = cross_validation(X_bin, y_bin, folds=5, threshold_stepsize=0.1)\n",
    "plot_ROC(meanTPR, meanFPR)"
   ]
  },
  {
   "cell_type": "markdown",
   "metadata": {},
   "source": [
    "# Questions for examination:\n",
    "\n",
    "In addition to completing the assignment with all its tasks, you should also prepare to answer the following questions:\n",
    "\n",
    "1) Why is it called \"naive bayes\"?\n",
    "\n",
    "2) What are some downsides of the naive bayes learning algorithm?\n",
    "\n",
    "3) When using ROC-curves, what is the theoretical best and worst result you can get?\n",
    "\n",
    "4) When using ROC-curves, in this assignment for example, is a higher threshold-stepsize always better?  \n",
    "\n",
    "5) When using cross-validation and ROC-curves, why is it important to take the correct mean values? What could go wrong?\n"
   ]
  },
  {
   "cell_type": "markdown",
   "metadata": {},
   "source": [
    "# Finished!\n",
    "\n",
    "Was part of the setup incorrect? Did you spot any inconsistencies in the assignment? Could something improve?\n",
    "\n",
    "If so, please write them and send via email and send it to:\n",
    "\n",
    "* marcus.gullstrand@ju.se\n",
    "\n",
    "Thank you!"
   ]
  }
 ],
 "metadata": {
  "kernelspec": {
   "display_name": "Python 3 (ipykernel)",
   "language": "python",
   "name": "python3"
  },
  "language_info": {
   "codemirror_mode": {
    "name": "ipython",
    "version": 3
   },
   "file_extension": ".py",
   "mimetype": "text/x-python",
   "name": "python",
   "nbconvert_exporter": "python",
   "pygments_lexer": "ipython3",
   "version": "3.9.6"
  }
 },
 "nbformat": 4,
 "nbformat_minor": 4
}
