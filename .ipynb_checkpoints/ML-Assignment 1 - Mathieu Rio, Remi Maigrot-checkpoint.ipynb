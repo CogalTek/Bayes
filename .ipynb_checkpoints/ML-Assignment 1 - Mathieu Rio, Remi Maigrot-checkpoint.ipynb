{
 "cells": [
  {
   "cell_type": "markdown",
   "metadata": {},
   "source": [
    "# Machine Learning - Assignment 1\n",
    "\n",
    "## Naive Bayes Learning algorithm, Cross-validation, and ROC-Curves"
   ]
  },
  {
   "cell_type": "markdown",
   "metadata": {},
   "source": [
    "The aim of the assignment is to implement:\n",
    "\n",
    "* Naive Bayes learning algorithm for binary classification tasks\n",
    "* Visualization to plot a ROC-curve\n",
    "* A cross-validation test\n",
    "* Visualization of the average ROC-curve of a cross-validation test\n",
    "\n",
    "Follow the instructions and implement what is missing to complete the assignment. Some functions have been started to help you a little bit with the inputs or outputs of the function.\n",
    "\n",
    "**Note:** You might need to go back and forth during your implementation of the code. The structure is set up to make implementation easier, but how you return values from the different functions might vary, and you might find yourself going back and change something to make it easier later on."
   ]
  },
  {
   "cell_type": "markdown",
   "metadata": {},
   "source": [
    "## Assignment preparations"
   ]
  },
  {
   "cell_type": "markdown",
   "metadata": {},
   "source": [
    "We help you out with importing the libraries and reading the data.\n",
    "\n",
    "Look at the output to get an idea of how the data is structured."
   ]
  },
  {
   "cell_type": "code",
   "execution_count": 162,
   "metadata": {},
   "outputs": [],
   "source": [
    "import numpy as np\n",
    "import pandas as pd\n",
    "import matplotlib.pyplot as plt\n",
    "from colorama import Fore, Back, Style\n",
    "from math import e, pi, sqrt"
   ]
  },
  {
   "cell_type": "code",
   "execution_count": 163,
   "metadata": {},
   "outputs": [],
   "source": [
    "class Data_set:\n",
    "    def __init__(self, name):\n",
    "        self.name = \"\"\n",
    "        self.data = None\n",
    "        self.features = None\n",
    "        self.labels = None\n",
    "        self.means = 0.0\n",
    "        self.prior = 0.0\n",
    "        self.std_devs = 0.0\n",
    "        self.gaussian_probability_density = 0.0\n",
    "\n",
    "    def fix_data_structure(self):\n",
    "        if all(isinstance(row, np.ndarray) for row in self.features):\n",
    "            try:\n",
    "                self.features = np.array(self.features, dtype=float)\n",
    "            except ValueError as e:\n",
    "                print(\"Erreur lors de la conversion :\", e)\n",
    "        else:\n",
    "            print(\"Les éléments ne sont pas tous des tableaux numpy.\")\n",
    "\n",
    "    def class_split(self):\n",
    "        self.features = self.data[:, :-1]\n",
    "        self.labels = self.data[:, -1]\n",
    "        self.fix_data_structure()\n",
    "\n",
    "    def display_features_and_labels(self):\n",
    "        print(self.name + \": Features set:\")\n",
    "        print(self.features)\n",
    "        print(self.name + \": Labels set:\")\n",
    "        print(self.labels)"
   ]
  },
  {
   "cell_type": "code",
   "execution_count": 169,
   "metadata": {},
   "outputs": [],
   "source": [
    "# creating a class to make the code cleaner\n",
    "class Flower:\n",
    "    def __init__(self, name):\n",
    "        self.name = name\n",
    "        self.data = None\n",
    "        self.train = Data_set(\"Train\")\n",
    "        self.test = Data_set(\"Test\")\n",
    "        self.test_size = 0.2\n",
    "\n",
    "    def train_test_split(self):\n",
    "        #np.random.shuffle(self.data)\n",
    "        split_index = int(len(self.data) * (1 - self.test_size))\n",
    "        self.train.data = self.data[:split_index]\n",
    "        self.test.data  = self.data[split_index:]\n",
    "\n",
    "    def class_split_automation(self):\n",
    "        print(Fore.RED + self.name + Style.RESET_ALL)\n",
    "        self.train.class_split()\n",
    "        self.test.class_split()\n",
    "        self.train.display_features_and_labels()\n",
    "        self.test.display_features_and_labels()\n",
    "\n",
    "    def display_training(self):\n",
    "        print(Fore.RED + self.name + Style.RESET_ALL)\n",
    "        print(\"Train set:\")\n",
    "        print(self.train.data)\n",
    "        print(\"Test set:\")\n",
    "        print(self.test.data)"
   ]
  },
  {
   "cell_type": "code",
   "execution_count": 170,
   "metadata": {},
   "outputs": [
    {
     "name": "stdout",
     "output_type": "stream",
     "text": [
      "[[5.1 3.5 1.4 0.2 'Iris-setosa']\n",
      " [4.9 3.0 1.4 0.2 'Iris-setosa']\n",
      " [4.7 3.2 1.3 0.2 'Iris-setosa']\n",
      " [4.6 3.1 1.5 0.2 'Iris-setosa']\n",
      " [5.0 3.6 1.4 0.2 'Iris-setosa']\n",
      " [5.4 3.9 1.7 0.4 'Iris-setosa']\n",
      " [4.6 3.4 1.4 0.3 'Iris-setosa']\n",
      " [5.0 3.4 1.5 0.2 'Iris-setosa']\n",
      " [4.4 2.9 1.4 0.2 'Iris-setosa']\n",
      " [4.9 3.1 1.5 0.1 'Iris-setosa']\n",
      " [5.4 3.7 1.5 0.2 'Iris-setosa']\n",
      " [4.8 3.4 1.6 0.2 'Iris-setosa']\n",
      " [4.8 3.0 1.4 0.1 'Iris-setosa']\n",
      " [4.3 3.0 1.1 0.1 'Iris-setosa']\n",
      " [5.8 4.0 1.2 0.2 'Iris-setosa']\n",
      " [5.7 4.4 1.5 0.4 'Iris-setosa']\n",
      " [5.4 3.9 1.3 0.4 'Iris-setosa']\n",
      " [5.1 3.5 1.4 0.3 'Iris-setosa']\n",
      " [5.7 3.8 1.7 0.3 'Iris-setosa']\n",
      " [5.1 3.8 1.5 0.3 'Iris-setosa']\n",
      " [5.4 3.4 1.7 0.2 'Iris-setosa']\n",
      " [5.1 3.7 1.5 0.4 'Iris-setosa']\n",
      " [4.6 3.6 1.0 0.2 'Iris-setosa']\n",
      " [5.1 3.3 1.7 0.5 'Iris-setosa']\n",
      " [4.8 3.4 1.9 0.2 'Iris-setosa']\n",
      " [5.0 3.0 1.6 0.2 'Iris-setosa']\n",
      " [5.0 3.4 1.6 0.4 'Iris-setosa']\n",
      " [5.2 3.5 1.5 0.2 'Iris-setosa']\n",
      " [5.2 3.4 1.4 0.2 'Iris-setosa']\n",
      " [4.7 3.2 1.6 0.2 'Iris-setosa']\n",
      " [4.8 3.1 1.6 0.2 'Iris-setosa']\n",
      " [5.4 3.4 1.5 0.4 'Iris-setosa']\n",
      " [5.2 4.1 1.5 0.1 'Iris-setosa']\n",
      " [5.5 4.2 1.4 0.2 'Iris-setosa']\n",
      " [4.9 3.1 1.5 0.1 'Iris-setosa']\n",
      " [5.0 3.2 1.2 0.2 'Iris-setosa']\n",
      " [5.5 3.5 1.3 0.2 'Iris-setosa']\n",
      " [4.9 3.1 1.5 0.1 'Iris-setosa']\n",
      " [4.4 3.0 1.3 0.2 'Iris-setosa']\n",
      " [5.1 3.4 1.5 0.2 'Iris-setosa']\n",
      " [5.0 3.5 1.3 0.3 'Iris-setosa']\n",
      " [4.5 2.3 1.3 0.3 'Iris-setosa']\n",
      " [4.4 3.2 1.3 0.2 'Iris-setosa']\n",
      " [5.0 3.5 1.6 0.6 'Iris-setosa']\n",
      " [5.1 3.8 1.9 0.4 'Iris-setosa']\n",
      " [4.8 3.0 1.4 0.3 'Iris-setosa']\n",
      " [5.1 3.8 1.6 0.2 'Iris-setosa']\n",
      " [4.6 3.2 1.4 0.2 'Iris-setosa']\n",
      " [5.3 3.7 1.5 0.2 'Iris-setosa']\n",
      " [5.0 3.3 1.4 0.2 'Iris-setosa']\n",
      " [7.0 3.2 4.7 1.4 'Iris-versicolor']\n",
      " [6.4 3.2 4.5 1.5 'Iris-versicolor']\n",
      " [6.9 3.1 4.9 1.5 'Iris-versicolor']\n",
      " [5.5 2.3 4.0 1.3 'Iris-versicolor']\n",
      " [6.5 2.8 4.6 1.5 'Iris-versicolor']\n",
      " [5.7 2.8 4.5 1.3 'Iris-versicolor']\n",
      " [6.3 3.3 4.7 1.6 'Iris-versicolor']\n",
      " [4.9 2.4 3.3 1.0 'Iris-versicolor']\n",
      " [6.6 2.9 4.6 1.3 'Iris-versicolor']\n",
      " [5.2 2.7 3.9 1.4 'Iris-versicolor']\n",
      " [5.0 2.0 3.5 1.0 'Iris-versicolor']\n",
      " [5.9 3.0 4.2 1.5 'Iris-versicolor']\n",
      " [6.0 2.2 4.0 1.0 'Iris-versicolor']\n",
      " [6.1 2.9 4.7 1.4 'Iris-versicolor']\n",
      " [5.6 2.9 3.6 1.3 'Iris-versicolor']\n",
      " [6.7 3.1 4.4 1.4 'Iris-versicolor']\n",
      " [5.6 3.0 4.5 1.5 'Iris-versicolor']\n",
      " [5.8 2.7 4.1 1.0 'Iris-versicolor']\n",
      " [6.2 2.2 4.5 1.5 'Iris-versicolor']\n",
      " [5.6 2.5 3.9 1.1 'Iris-versicolor']\n",
      " [5.9 3.2 4.8 1.8 'Iris-versicolor']\n",
      " [6.1 2.8 4.0 1.3 'Iris-versicolor']\n",
      " [6.3 2.5 4.9 1.5 'Iris-versicolor']\n",
      " [6.1 2.8 4.7 1.2 'Iris-versicolor']\n",
      " [6.4 2.9 4.3 1.3 'Iris-versicolor']\n",
      " [6.6 3.0 4.4 1.4 'Iris-versicolor']\n",
      " [6.8 2.8 4.8 1.4 'Iris-versicolor']\n",
      " [6.7 3.0 5.0 1.7 'Iris-versicolor']\n",
      " [6.0 2.9 4.5 1.5 'Iris-versicolor']\n",
      " [5.7 2.6 3.5 1.0 'Iris-versicolor']\n",
      " [5.5 2.4 3.8 1.1 'Iris-versicolor']\n",
      " [5.5 2.4 3.7 1.0 'Iris-versicolor']\n",
      " [5.8 2.7 3.9 1.2 'Iris-versicolor']\n",
      " [6.0 2.7 5.1 1.6 'Iris-versicolor']\n",
      " [5.4 3.0 4.5 1.5 'Iris-versicolor']\n",
      " [6.0 3.4 4.5 1.6 'Iris-versicolor']\n",
      " [6.7 3.1 4.7 1.5 'Iris-versicolor']\n",
      " [6.3 2.3 4.4 1.3 'Iris-versicolor']\n",
      " [5.6 3.0 4.1 1.3 'Iris-versicolor']\n",
      " [5.5 2.5 4.0 1.3 'Iris-versicolor']\n",
      " [5.5 2.6 4.4 1.2 'Iris-versicolor']\n",
      " [6.1 3.0 4.6 1.4 'Iris-versicolor']\n",
      " [5.8 2.6 4.0 1.2 'Iris-versicolor']\n",
      " [5.0 2.3 3.3 1.0 'Iris-versicolor']\n",
      " [5.6 2.7 4.2 1.3 'Iris-versicolor']\n",
      " [5.7 3.0 4.2 1.2 'Iris-versicolor']\n",
      " [5.7 2.9 4.2 1.3 'Iris-versicolor']\n",
      " [6.2 2.9 4.3 1.3 'Iris-versicolor']\n",
      " [5.1 2.5 3.0 1.1 'Iris-versicolor']\n",
      " [5.7 2.8 4.1 1.3 'Iris-versicolor']\n",
      " [6.3 3.3 6.0 2.5 'Iris-virginica']\n",
      " [5.8 2.7 5.1 1.9 'Iris-virginica']\n",
      " [7.1 3.0 5.9 2.1 'Iris-virginica']\n",
      " [6.3 2.9 5.6 1.8 'Iris-virginica']\n",
      " [6.5 3.0 5.8 2.2 'Iris-virginica']\n",
      " [7.6 3.0 6.6 2.1 'Iris-virginica']\n",
      " [4.9 2.5 4.5 1.7 'Iris-virginica']\n",
      " [7.3 2.9 6.3 1.8 'Iris-virginica']\n",
      " [6.7 2.5 5.8 1.8 'Iris-virginica']\n",
      " [7.2 3.6 6.1 2.5 'Iris-virginica']\n",
      " [6.5 3.2 5.1 2.0 'Iris-virginica']\n",
      " [6.4 2.7 5.3 1.9 'Iris-virginica']\n",
      " [6.8 3.0 5.5 2.1 'Iris-virginica']\n",
      " [5.7 2.5 5.0 2.0 'Iris-virginica']\n",
      " [5.8 2.8 5.1 2.4 'Iris-virginica']\n",
      " [6.4 3.2 5.3 2.3 'Iris-virginica']\n",
      " [6.5 3.0 5.5 1.8 'Iris-virginica']\n",
      " [7.7 3.8 6.7 2.2 'Iris-virginica']\n",
      " [7.7 2.6 6.9 2.3 'Iris-virginica']\n",
      " [6.0 2.2 5.0 1.5 'Iris-virginica']\n",
      " [6.9 3.2 5.7 2.3 'Iris-virginica']\n",
      " [5.6 2.8 4.9 2.0 'Iris-virginica']\n",
      " [7.7 2.8 6.7 2.0 'Iris-virginica']\n",
      " [6.3 2.7 4.9 1.8 'Iris-virginica']\n",
      " [6.7 3.3 5.7 2.1 'Iris-virginica']\n",
      " [7.2 3.2 6.0 1.8 'Iris-virginica']\n",
      " [6.2 2.8 4.8 1.8 'Iris-virginica']\n",
      " [6.1 3.0 4.9 1.8 'Iris-virginica']\n",
      " [6.4 2.8 5.6 2.1 'Iris-virginica']\n",
      " [7.2 3.0 5.8 1.6 'Iris-virginica']\n",
      " [7.4 2.8 6.1 1.9 'Iris-virginica']\n",
      " [7.9 3.8 6.4 2.0 'Iris-virginica']\n",
      " [6.4 2.8 5.6 2.2 'Iris-virginica']\n",
      " [6.3 2.8 5.1 1.5 'Iris-virginica']\n",
      " [6.1 2.6 5.6 1.4 'Iris-virginica']\n",
      " [7.7 3.0 6.1 2.3 'Iris-virginica']\n",
      " [6.3 3.4 5.6 2.4 'Iris-virginica']\n",
      " [6.4 3.1 5.5 1.8 'Iris-virginica']\n",
      " [6.0 3.0 4.8 1.8 'Iris-virginica']\n",
      " [6.9 3.1 5.4 2.1 'Iris-virginica']\n",
      " [6.7 3.1 5.6 2.4 'Iris-virginica']\n",
      " [6.9 3.1 5.1 2.3 'Iris-virginica']\n",
      " [5.8 2.7 5.1 1.9 'Iris-virginica']\n",
      " [6.8 3.2 5.9 2.3 'Iris-virginica']\n",
      " [6.7 3.3 5.7 2.5 'Iris-virginica']\n",
      " [6.7 3.0 5.2 2.3 'Iris-virginica']\n",
      " [6.3 2.5 5.0 1.9 'Iris-virginica']\n",
      " [6.5 3.0 5.2 2.0 'Iris-virginica']\n",
      " [6.2 3.4 5.4 2.3 'Iris-virginica']\n",
      " [5.9 3.0 5.1 1.8 'Iris-virginica']]\n",
      "Index de séparation : [  0  50 100]\n",
      "Full data array (features and labels):\n",
      "[[6.5 3.0 5.8 2.2 2]\n",
      " [5.6 2.8 4.9 2.0 2]\n",
      " [5.3 3.7 1.5 0.2 0]]\n",
      "\n",
      "###############\n",
      "\n",
      "Train features (first 4 columns):\n",
      "[[6.5 3.0 5.8 2.2]\n",
      " [5.6 2.8 4.9 2.0]\n",
      " [5.3 3.7 1.5 0.2]]\n",
      "\n",
      "Labels (last column):\n",
      "[[2]\n",
      " [2]\n",
      " [0]]\n",
      "\n",
      "Names of labels:\n",
      "[[0, 'Iris-setosa'], [1, 'Iris-versicolor'], [2, 'Iris-virginica']]\n"
     ]
    }
   ],
   "source": [
    "data = pd.read_csv(\"iris.csv\").to_numpy()\n",
    "print(data)\n",
    "\n",
    "mapped, index, unique_arr = np.unique(data[:, -1], return_index=True, return_inverse=True)\n",
    "data[:, -1] = unique_arr\n",
    "np.random.shuffle(data)\n",
    "\n",
    "iris_setosa = Flower(\"Setosa\")\n",
    "iris_versicolor = Flower(\"Versicolor\")\n",
    "iris_virginica = Flower(\"Virginica\")\n",
    "print(\"Index de séparation :\", index)\n",
    "iris_setosa.data, iris_versicolor.data, iris_virginica.data = np.split(data, index[1:])\n",
    "\n",
    "print(f\"Full data array (features and labels):\\n{iris_setosa.data[:3]}\\n\")\n",
    "print(\"###############\\n\")\n",
    "print(f\"Train features (first 4 columns):\\n{iris_setosa.data[:3, :-1]}\\n\")\n",
    "print(f\"Labels (last column):\\n{iris_setosa.data[:3, -1:]}\\n\")\n",
    "print(f\"Names of labels:\\n{[[numb, name] for numb, name in enumerate(mapped)]}\")"
   ]
  },
  {
   "cell_type": "code",
   "execution_count": 171,
   "metadata": {},
   "outputs": [
    {
     "data": {
      "text/plain": [
       "array([[6.5, 3.0, 5.8, 2.2, 2],\n",
       "       [5.6, 2.8, 4.9, 2.0, 2],\n",
       "       [5.3, 3.7, 1.5, 0.2, 0]], dtype=object)"
      ]
     },
     "execution_count": 171,
     "metadata": {},
     "output_type": "execute_result"
    }
   ],
   "source": [
    "# Example print of the 3 first datapoints (similar as above):\n",
    "iris_setosa.data[:3]"
   ]
  },
  {
   "cell_type": "markdown",
   "metadata": {},
   "source": [
    "## Data handling functions\n",
    "\n",
    "As a start, we are going to implement some basic data handling functions to use in the future."
   ]
  },
  {
   "cell_type": "markdown",
   "metadata": {},
   "source": [
    "### 1) Split class into a train and test set\n",
    "\n",
    "First, we need to be able to split the class into a train and test set."
   ]
  },
  {
   "cell_type": "code",
   "execution_count": 172,
   "metadata": {},
   "outputs": [
    {
     "name": "stdout",
     "output_type": "stream",
     "text": [
      "\u001b[31mSetosa\u001b[0m\n",
      "Train set:\n",
      "[[6.5 3.0 5.8 2.2 2]\n",
      " [5.6 2.8 4.9 2.0 2]\n",
      " [5.3 3.7 1.5 0.2 0]\n",
      " [5.1 2.5 3.0 1.1 1]\n",
      " [6.5 2.8 4.6 1.5 1]\n",
      " [6.7 3.1 5.6 2.4 2]\n",
      " [7.7 3.0 6.1 2.3 2]\n",
      " [5.9 3.2 4.8 1.8 1]\n",
      " [4.4 2.9 1.4 0.2 0]\n",
      " [4.6 3.6 1.0 0.2 0]\n",
      " [5.7 3.8 1.7 0.3 0]\n",
      " [4.7 3.2 1.3 0.2 0]\n",
      " [6.3 2.9 5.6 1.8 2]\n",
      " [5.8 2.7 3.9 1.2 1]\n",
      " [6.4 2.7 5.3 1.9 2]\n",
      " [5.7 2.8 4.5 1.3 1]\n",
      " [7.9 3.8 6.4 2.0 2]\n",
      " [5.7 2.8 4.1 1.3 1]\n",
      " [5.0 3.4 1.5 0.2 0]\n",
      " [5.1 3.7 1.5 0.4 0]\n",
      " [4.5 2.3 1.3 0.3 0]\n",
      " [6.0 3.0 4.8 1.8 2]\n",
      " [6.4 2.8 5.6 2.1 2]\n",
      " [4.4 3.0 1.3 0.2 0]\n",
      " [6.8 3.0 5.5 2.1 2]\n",
      " [5.4 3.4 1.7 0.2 0]\n",
      " [6.8 2.8 4.8 1.4 1]\n",
      " [7.0 3.2 4.7 1.4 1]\n",
      " [5.1 3.4 1.5 0.2 0]\n",
      " [6.5 3.0 5.5 1.8 2]\n",
      " [5.7 3.0 4.2 1.2 1]\n",
      " [5.6 2.5 3.9 1.1 1]\n",
      " [6.7 3.0 5.0 1.7 1]\n",
      " [6.4 3.2 4.5 1.5 1]\n",
      " [5.8 2.7 4.1 1.0 1]\n",
      " [5.8 2.6 4.0 1.2 1]\n",
      " [5.5 2.6 4.4 1.2 1]\n",
      " [7.7 2.6 6.9 2.3 2]\n",
      " [5.2 3.5 1.5 0.2 0]\n",
      " [4.8 3.1 1.6 0.2 0]]\n",
      "Test set:\n",
      "[[6.5 3.2 5.1 2.0 2]\n",
      " [5.5 2.4 3.7 1.0 1]\n",
      " [5.1 3.8 1.5 0.3 0]\n",
      " [5.4 3.9 1.7 0.4 0]\n",
      " [6.9 3.1 5.1 2.3 2]\n",
      " [6.4 2.9 4.3 1.3 1]\n",
      " [5.5 4.2 1.4 0.2 0]\n",
      " [5.7 2.5 5.0 2.0 2]\n",
      " [5.8 2.7 5.1 1.9 2]\n",
      " [4.4 3.2 1.3 0.2 0]]\n",
      "\u001b[31mVersicolor\u001b[0m\n",
      "Train set:\n",
      "[[6.0 2.7 5.1 1.6 1]\n",
      " [6.3 2.7 4.9 1.8 2]\n",
      " [5.8 2.8 5.1 2.4 2]\n",
      " [5.0 2.0 3.5 1.0 1]\n",
      " [7.4 2.8 6.1 1.9 2]\n",
      " [6.8 3.2 5.9 2.3 2]\n",
      " [5.4 3.4 1.5 0.4 0]\n",
      " [6.0 3.4 4.5 1.6 1]\n",
      " [6.4 2.8 5.6 2.2 2]\n",
      " [5.6 2.7 4.2 1.3 1]\n",
      " [5.7 4.4 1.5 0.4 0]\n",
      " [6.1 2.6 5.6 1.4 2]\n",
      " [4.9 3.1 1.5 0.1 0]\n",
      " [5.4 3.0 4.5 1.5 1]\n",
      " [7.2 3.2 6.0 1.8 2]\n",
      " [5.6 2.9 3.6 1.3 1]\n",
      " [4.9 3.1 1.5 0.1 0]\n",
      " [6.6 2.9 4.6 1.3 1]\n",
      " [4.6 3.2 1.4 0.2 0]\n",
      " [4.9 2.5 4.5 1.7 2]\n",
      " [6.7 3.0 5.2 2.3 2]\n",
      " [6.2 3.4 5.4 2.3 2]\n",
      " [6.0 2.2 5.0 1.5 2]\n",
      " [7.3 2.9 6.3 1.8 2]\n",
      " [4.8 3.4 1.9 0.2 0]\n",
      " [4.8 3.0 1.4 0.1 0]\n",
      " [5.0 2.3 3.3 1.0 1]\n",
      " [4.9 3.0 1.4 0.2 0]\n",
      " [6.4 3.2 5.3 2.3 2]\n",
      " [6.0 2.9 4.5 1.5 1]\n",
      " [6.7 3.1 4.7 1.5 1]\n",
      " [5.1 3.5 1.4 0.3 0]\n",
      " [6.2 2.2 4.5 1.5 1]\n",
      " [5.2 4.1 1.5 0.1 0]\n",
      " [5.1 3.8 1.9 0.4 0]\n",
      " [5.0 3.5 1.3 0.3 0]\n",
      " [7.7 3.8 6.7 2.2 2]\n",
      " [4.7 3.2 1.6 0.2 0]\n",
      " [6.2 2.8 4.8 1.8 2]\n",
      " [4.8 3.4 1.6 0.2 0]]\n",
      "Test set:\n",
      "[[5.0 3.5 1.6 0.6 0]\n",
      " [5.1 3.8 1.6 0.2 0]\n",
      " [6.3 3.4 5.6 2.4 2]\n",
      " [5.0 3.0 1.6 0.2 0]\n",
      " [5.8 4.0 1.2 0.2 0]\n",
      " [4.3 3.0 1.1 0.1 0]\n",
      " [7.1 3.0 5.9 2.1 2]\n",
      " [5.9 3.0 5.1 1.8 2]\n",
      " [5.2 3.4 1.4 0.2 0]\n",
      " [5.0 3.3 1.4 0.2 0]]\n",
      "\u001b[31mVirginica\u001b[0m\n",
      "Train set:\n",
      "[[6.7 3.1 4.4 1.4 1]\n",
      " [5.9 3.0 4.2 1.5 1]\n",
      " [5.2 2.7 3.9 1.4 1]\n",
      " [7.2 3.6 6.1 2.5 2]\n",
      " [6.9 3.2 5.7 2.3 2]\n",
      " [6.3 3.3 6.0 2.5 2]\n",
      " [6.3 2.5 4.9 1.5 1]\n",
      " [4.9 2.4 3.3 1.0 1]\n",
      " [5.5 2.3 4.0 1.3 1]\n",
      " [6.3 2.8 5.1 1.5 2]\n",
      " [6.1 2.8 4.0 1.3 1]\n",
      " [6.6 3.0 4.4 1.4 1]\n",
      " [5.4 3.9 1.3 0.4 0]\n",
      " [5.7 2.9 4.2 1.3 1]\n",
      " [6.1 3.0 4.9 1.8 2]\n",
      " [6.1 2.8 4.7 1.2 1]\n",
      " [4.6 3.4 1.4 0.3 0]\n",
      " [4.9 3.1 1.5 0.1 0]\n",
      " [6.3 2.5 5.0 1.9 2]\n",
      " [5.6 3.0 4.1 1.3 1]\n",
      " [5.5 2.5 4.0 1.3 1]\n",
      " [6.3 2.3 4.4 1.3 1]\n",
      " [6.7 2.5 5.8 1.8 2]\n",
      " [5.0 3.2 1.2 0.2 0]\n",
      " [6.5 3.0 5.2 2.0 2]\n",
      " [5.8 2.7 5.1 1.9 2]\n",
      " [6.4 3.1 5.5 1.8 2]\n",
      " [5.5 2.4 3.8 1.1 1]\n",
      " [5.1 3.5 1.4 0.2 0]\n",
      " [5.7 2.6 3.5 1.0 1]\n",
      " [6.9 3.1 4.9 1.5 1]\n",
      " [6.1 3.0 4.6 1.4 1]\n",
      " [6.7 3.3 5.7 2.1 2]\n",
      " [5.0 3.4 1.6 0.4 0]\n",
      " [6.7 3.3 5.7 2.5 2]\n",
      " [4.8 3.0 1.4 0.3 0]\n",
      " [6.9 3.1 5.4 2.1 2]\n",
      " [5.4 3.7 1.5 0.2 0]\n",
      " [7.7 2.8 6.7 2.0 2]\n",
      " [4.6 3.1 1.5 0.2 0]]\n",
      "Test set:\n",
      "[[6.1 2.9 4.7 1.4 1]\n",
      " [6.2 2.9 4.3 1.3 1]\n",
      " [5.1 3.3 1.7 0.5 0]\n",
      " [7.2 3.0 5.8 1.6 2]\n",
      " [6.3 3.3 4.7 1.6 1]\n",
      " [5.0 3.6 1.4 0.2 0]\n",
      " [5.6 3.0 4.5 1.5 1]\n",
      " [6.0 2.2 4.0 1.0 1]\n",
      " [5.5 3.5 1.3 0.2 0]\n",
      " [7.6 3.0 6.6 2.1 2]]\n"
     ]
    }
   ],
   "source": [
    "# TODO: Test the train_test_split function\n",
    "iris_setosa.train_test_split()\n",
    "iris_versicolor.train_test_split()\n",
    "iris_virginica.train_test_split()\n",
    "\n",
    "# TODO: Print the output\n",
    "iris_setosa.display_training()\n",
    "iris_versicolor.display_training()\n",
    "iris_virginica.display_training()"
   ]
  },
  {
   "cell_type": "markdown",
   "metadata": {},
   "source": [
    "### 2) Split data into features and labels\n",
    "\n",
    "The data as shown above is not always the optimal shape. To help us keep track of things, we can split the data into its features and labels seperately.\n",
    "\n",
    "Each class is 4 features and 1 label in the same array: \n",
    "\n",
    "* **[feature 1, feature 2, feature 3, feature 4, label]**\n",
    "\n",
    "It would help us later to have the features and labels in seperate arrays in the form: \n",
    "\n",
    "* **[feature 1, feature 2, feature 3, feature 4]** and **[label]**\n",
    "\n",
    "Here you are going to implement this functionallity."
   ]
  },
  {
   "cell_type": "markdown",
   "metadata": {},
   "source": [
    "We should first test the \"**class_split**\" function on one of the classes above (iris_setosa, etc...) to make sure it works properly."
   ]
  },
  {
   "cell_type": "code",
   "execution_count": 173,
   "metadata": {},
   "outputs": [
    {
     "name": "stdout",
     "output_type": "stream",
     "text": [
      "\u001b[31mSetosa\u001b[0m\n",
      "Features set:\n",
      "[[6.5 3.  5.8 2.2]\n",
      " [5.6 2.8 4.9 2. ]\n",
      " [5.3 3.7 1.5 0.2]\n",
      " [5.1 2.5 3.  1.1]\n",
      " [6.5 2.8 4.6 1.5]\n",
      " [6.7 3.1 5.6 2.4]\n",
      " [7.7 3.  6.1 2.3]\n",
      " [5.9 3.2 4.8 1.8]\n",
      " [4.4 2.9 1.4 0.2]\n",
      " [4.6 3.6 1.  0.2]\n",
      " [5.7 3.8 1.7 0.3]\n",
      " [4.7 3.2 1.3 0.2]\n",
      " [6.3 2.9 5.6 1.8]\n",
      " [5.8 2.7 3.9 1.2]\n",
      " [6.4 2.7 5.3 1.9]\n",
      " [5.7 2.8 4.5 1.3]\n",
      " [7.9 3.8 6.4 2. ]\n",
      " [5.7 2.8 4.1 1.3]\n",
      " [5.  3.4 1.5 0.2]\n",
      " [5.1 3.7 1.5 0.4]\n",
      " [4.5 2.3 1.3 0.3]\n",
      " [6.  3.  4.8 1.8]\n",
      " [6.4 2.8 5.6 2.1]\n",
      " [4.4 3.  1.3 0.2]\n",
      " [6.8 3.  5.5 2.1]\n",
      " [5.4 3.4 1.7 0.2]\n",
      " [6.8 2.8 4.8 1.4]\n",
      " [7.  3.2 4.7 1.4]\n",
      " [5.1 3.4 1.5 0.2]\n",
      " [6.5 3.  5.5 1.8]\n",
      " [5.7 3.  4.2 1.2]\n",
      " [5.6 2.5 3.9 1.1]\n",
      " [6.7 3.  5.  1.7]\n",
      " [6.4 3.2 4.5 1.5]\n",
      " [5.8 2.7 4.1 1. ]\n",
      " [5.8 2.6 4.  1.2]\n",
      " [5.5 2.6 4.4 1.2]\n",
      " [7.7 2.6 6.9 2.3]\n",
      " [5.2 3.5 1.5 0.2]\n",
      " [4.8 3.1 1.6 0.2]]\n",
      "Labels set:\n",
      "[2 2 0 1 1 2 2 1 0 0 0 0 2 1 2 1 2 1 0 0 0 2 2 0 2 0 1 1 0 2 1 1 1 1 1 1 1\n",
      " 2 0 0]\n",
      "Features set:\n",
      "[[6.5 3.2 5.1 2. ]\n",
      " [5.5 2.4 3.7 1. ]\n",
      " [5.1 3.8 1.5 0.3]\n",
      " [5.4 3.9 1.7 0.4]\n",
      " [6.9 3.1 5.1 2.3]\n",
      " [6.4 2.9 4.3 1.3]\n",
      " [5.5 4.2 1.4 0.2]\n",
      " [5.7 2.5 5.  2. ]\n",
      " [5.8 2.7 5.1 1.9]\n",
      " [4.4 3.2 1.3 0.2]]\n",
      "Labels set:\n",
      "[2 1 0 0 2 1 0 2 2 0]\n",
      "\u001b[31mVersicolor\u001b[0m\n",
      "Features set:\n",
      "[[6.  2.7 5.1 1.6]\n",
      " [6.3 2.7 4.9 1.8]\n",
      " [5.8 2.8 5.1 2.4]\n",
      " [5.  2.  3.5 1. ]\n",
      " [7.4 2.8 6.1 1.9]\n",
      " [6.8 3.2 5.9 2.3]\n",
      " [5.4 3.4 1.5 0.4]\n",
      " [6.  3.4 4.5 1.6]\n",
      " [6.4 2.8 5.6 2.2]\n",
      " [5.6 2.7 4.2 1.3]\n",
      " [5.7 4.4 1.5 0.4]\n",
      " [6.1 2.6 5.6 1.4]\n",
      " [4.9 3.1 1.5 0.1]\n",
      " [5.4 3.  4.5 1.5]\n",
      " [7.2 3.2 6.  1.8]\n",
      " [5.6 2.9 3.6 1.3]\n",
      " [4.9 3.1 1.5 0.1]\n",
      " [6.6 2.9 4.6 1.3]\n",
      " [4.6 3.2 1.4 0.2]\n",
      " [4.9 2.5 4.5 1.7]\n",
      " [6.7 3.  5.2 2.3]\n",
      " [6.2 3.4 5.4 2.3]\n",
      " [6.  2.2 5.  1.5]\n",
      " [7.3 2.9 6.3 1.8]\n",
      " [4.8 3.4 1.9 0.2]\n",
      " [4.8 3.  1.4 0.1]\n",
      " [5.  2.3 3.3 1. ]\n",
      " [4.9 3.  1.4 0.2]\n",
      " [6.4 3.2 5.3 2.3]\n",
      " [6.  2.9 4.5 1.5]\n",
      " [6.7 3.1 4.7 1.5]\n",
      " [5.1 3.5 1.4 0.3]\n",
      " [6.2 2.2 4.5 1.5]\n",
      " [5.2 4.1 1.5 0.1]\n",
      " [5.1 3.8 1.9 0.4]\n",
      " [5.  3.5 1.3 0.3]\n",
      " [7.7 3.8 6.7 2.2]\n",
      " [4.7 3.2 1.6 0.2]\n",
      " [6.2 2.8 4.8 1.8]\n",
      " [4.8 3.4 1.6 0.2]]\n",
      "Labels set:\n",
      "[1 2 2 1 2 2 0 1 2 1 0 2 0 1 2 1 0 1 0 2 2 2 2 2 0 0 1 0 2 1 1 0 1 0 0 0 2\n",
      " 0 2 0]\n",
      "Features set:\n",
      "[[5.  3.5 1.6 0.6]\n",
      " [5.1 3.8 1.6 0.2]\n",
      " [6.3 3.4 5.6 2.4]\n",
      " [5.  3.  1.6 0.2]\n",
      " [5.8 4.  1.2 0.2]\n",
      " [4.3 3.  1.1 0.1]\n",
      " [7.1 3.  5.9 2.1]\n",
      " [5.9 3.  5.1 1.8]\n",
      " [5.2 3.4 1.4 0.2]\n",
      " [5.  3.3 1.4 0.2]]\n",
      "Labels set:\n",
      "[0 0 2 0 0 0 2 2 0 0]\n",
      "\u001b[31mVirginica\u001b[0m\n",
      "Features set:\n",
      "[[6.7 3.1 4.4 1.4]\n",
      " [5.9 3.  4.2 1.5]\n",
      " [5.2 2.7 3.9 1.4]\n",
      " [7.2 3.6 6.1 2.5]\n",
      " [6.9 3.2 5.7 2.3]\n",
      " [6.3 3.3 6.  2.5]\n",
      " [6.3 2.5 4.9 1.5]\n",
      " [4.9 2.4 3.3 1. ]\n",
      " [5.5 2.3 4.  1.3]\n",
      " [6.3 2.8 5.1 1.5]\n",
      " [6.1 2.8 4.  1.3]\n",
      " [6.6 3.  4.4 1.4]\n",
      " [5.4 3.9 1.3 0.4]\n",
      " [5.7 2.9 4.2 1.3]\n",
      " [6.1 3.  4.9 1.8]\n",
      " [6.1 2.8 4.7 1.2]\n",
      " [4.6 3.4 1.4 0.3]\n",
      " [4.9 3.1 1.5 0.1]\n",
      " [6.3 2.5 5.  1.9]\n",
      " [5.6 3.  4.1 1.3]\n",
      " [5.5 2.5 4.  1.3]\n",
      " [6.3 2.3 4.4 1.3]\n",
      " [6.7 2.5 5.8 1.8]\n",
      " [5.  3.2 1.2 0.2]\n",
      " [6.5 3.  5.2 2. ]\n",
      " [5.8 2.7 5.1 1.9]\n",
      " [6.4 3.1 5.5 1.8]\n",
      " [5.5 2.4 3.8 1.1]\n",
      " [5.1 3.5 1.4 0.2]\n",
      " [5.7 2.6 3.5 1. ]\n",
      " [6.9 3.1 4.9 1.5]\n",
      " [6.1 3.  4.6 1.4]\n",
      " [6.7 3.3 5.7 2.1]\n",
      " [5.  3.4 1.6 0.4]\n",
      " [6.7 3.3 5.7 2.5]\n",
      " [4.8 3.  1.4 0.3]\n",
      " [6.9 3.1 5.4 2.1]\n",
      " [5.4 3.7 1.5 0.2]\n",
      " [7.7 2.8 6.7 2. ]\n",
      " [4.6 3.1 1.5 0.2]]\n",
      "Labels set:\n",
      "[1 1 1 2 2 2 1 1 1 2 1 1 0 1 2 1 0 0 2 1 1 1 2 0 2 2 2 1 0 1 1 1 2 0 2 0 2\n",
      " 0 2 0]\n",
      "Features set:\n",
      "[[6.1 2.9 4.7 1.4]\n",
      " [6.2 2.9 4.3 1.3]\n",
      " [5.1 3.3 1.7 0.5]\n",
      " [7.2 3.  5.8 1.6]\n",
      " [6.3 3.3 4.7 1.6]\n",
      " [5.  3.6 1.4 0.2]\n",
      " [5.6 3.  4.5 1.5]\n",
      " [6.  2.2 4.  1. ]\n",
      " [5.5 3.5 1.3 0.2]\n",
      " [7.6 3.  6.6 2.1]]\n",
      "Labels set:\n",
      "[1 1 0 2 1 0 1 1 0 2]\n"
     ]
    }
   ],
   "source": [
    "# TODO: Test the class splitting function\n",
    "# iris_setosa.train.class_split()\n",
    "# iris_setosa.test.class_split()\n",
    "\n",
    "# iris_versicolor.train.class_split()\n",
    "# iris_versicolor.test.class_split()\n",
    "\n",
    "# iris_virginica.train.class_split()\n",
    "# iris_virginica.test.class_split()\n",
    "\n",
    "# TODO: Print the output\n",
    "# iris_setosa.train.display_features_and_labels()\n",
    "# iris_setosa.test.display_features_and_labels()\n",
    "\n",
    "# iris_versicolor.train.display_features_and_labels()\n",
    "# iris_versicolor.test.display_features_and_labels()\n",
    "\n",
    "# iris_virginica.train.display_features_and_labels()\n",
    "# iris_virginica.test.display_features_and_labels()\n",
    "\n",
    "# Or \n",
    "\n",
    "iris_setosa.class_split_automation()\n",
    "iris_versicolor.class_split_automation()\n",
    "iris_virginica.class_split_automation()"
   ]
  },
  {
   "cell_type": "markdown",
   "metadata": {},
   "source": [
    "We should also try to **1)** first split a class into a train and test set, **2)** split each of these two into features and abels. In total there should be 4 arrays (2 feature and 2 label arrays)."
   ]
  },
  {
   "cell_type": "raw",
   "metadata": {},
   "source": [
    "Think a bit before going to the next task, what can easily go wrong in the above code?"
   ]
  },
  {
   "cell_type": "markdown",
   "metadata": {},
   "source": [
    "## Naive Bayes learning algorithm"
   ]
  },
  {
   "cell_type": "markdown",
   "metadata": {},
   "source": [
    "When implementing the Navie Bayes learning algorithm, we can break it down into a few components.\n",
    "\n",
    "We will implement these components one at a time."
   ]
  },
  {
   "cell_type": "markdown",
   "metadata": {},
   "source": [
    "### 3) Calculate feature statistics\n",
    "\n",
    "First, we need to implement a function that returns feature statistics (means, standard deviation, priors) for a given set of feature data for a single class. This is the equivalent of \"training\" the naive bayes model.\n",
    "\n",
    "**Note 1:** Each feature gets its own mean and standard deviation!\n",
    "\n",
    "**Note 2:** The way you structure the functions (what is returned) shapes the remainder of the assignment."
   ]
  },
  {
   "cell_type": "code",
   "execution_count": 129,
   "metadata": {},
   "outputs": [],
   "source": [
    "def calculate_feature_statistics(data, total):\n",
    "    data = np.array(data, dtype=float)\n",
    "\n",
    "    means = np.mean(data, axis=0)\n",
    "    # means = [round(val, 3) for val in means]\n",
    "\n",
    "    std_devs = np.std(data, axis=0, ddof=0)\n",
    "    # std_devs = [round(val, 3) for val in std_devs]\n",
    "\n",
    "    prior = len(data) / len(total)\n",
    "    # prior = [round(val, 3) for val in prior]\n",
    "\n",
    "    return means, std_devs, prior\n"
   ]
  },
  {
   "cell_type": "markdown",
   "metadata": {},
   "source": [
    "To make sure the function works, we should test it before proceding."
   ]
  },
  {
   "cell_type": "code",
   "execution_count": 130,
   "metadata": {},
   "outputs": [
    {
     "name": "stdout",
     "output_type": "stream",
     "text": [
      "means [5.8375 2.9875 3.7125 1.1725]\n",
      "std_devs [0.84990808 0.43138585 1.79055683 0.75199318]\n",
      "prior 0.8\n"
     ]
    }
   ],
   "source": [
    "# TODO: Make sure to use our previous class splitting function.\n",
    "# print(type(iris_setosa.train.features), iris_setosa.train.features)\n",
    "\n",
    "# TODO: Test the function here for one of the dataset classes. \n",
    "iris_setosa.train.means, iris_setosa.train.std_devs, iris_setosa.train.prior = calculate_feature_statistics(iris_setosa.train.features, iris_setosa.data)\n",
    "iris_versicolor.train.means, iris_versicolor.train.std_devs, iris_versicolor.train.prior = calculate_feature_statistics(iris_versicolor.train.features, iris_versicolor.data)\n",
    "iris_virginica.train.means, iris_virginica.train.std_devs, iris_virginica.train.prior = calculate_feature_statistics(iris_virginica.train.features, iris_virginica.data)\n",
    "\n",
    "# TODO: Print the output from the feature statistic function.\n",
    "# print(\"feature\", iris_setosa.train.features)\n",
    "print(\"means\", iris_setosa.train.means)\n",
    "print(\"std_devs\", iris_setosa.train.std_devs) \n",
    "print(\"prior\", iris_setosa.train.prior) "
   ]
  },
  {
   "cell_type": "markdown",
   "metadata": {},
   "source": [
    "### 4) Gaussian probability density function (Gaussian PDF)\n",
    "\n",
    "Now we need to implement the gaussian probability density function to use for a single datapoint.\n",
    "\n",
    "**Note:** Look at the imports in the first cell at the top, it has some math numbers for easy use here. "
   ]
  },
  {
   "cell_type": "code",
   "execution_count": 131,
   "metadata": {},
   "outputs": [],
   "source": [
    "def gaussian_probability_density_function(x, mean, stdev):\n",
    "    exponent = np.exp(-((x - mean) ** 2) / (2 * (stdev ** 2)))\n",
    "    coefficient = 1 / (np.sqrt(2 * np.pi * (stdev ** 2)))\n",
    "    return coefficient * exponent"
   ]
  },
  {
   "cell_type": "code",
   "execution_count": 132,
   "metadata": {},
   "outputs": [],
   "source": [
    "def for_each_gaussian(item):\n",
    "    item.train.gaussian_probability_density = [\n",
    "        [\n",
    "            gaussian_probability_density_function(x, mean, stdev)\n",
    "            for x, mean, stdev in zip(row, item.train.means, item.train.std_devs)\n",
    "        ]\n",
    "        for row in item.train.features\n",
    "    ]\n",
    "\n"
   ]
  },
  {
   "cell_type": "markdown",
   "metadata": {},
   "source": [
    "### 5) Testing Gaussian PDF"
   ]
  },
  {
   "cell_type": "markdown",
   "metadata": {},
   "source": [
    "We should test it to make sure it works. Train it, using the \"calculate_feature_statistics\" function, on one of the dataset classes. Then, take one datapoint from the same class and use naive bayes gaussian to make a prediction."
   ]
  },
  {
   "cell_type": "code",
   "execution_count": 133,
   "metadata": {},
   "outputs": [
    {
     "name": "stdout",
     "output_type": "stream",
     "text": [
      "[np.float64(0.25546173440098796), np.float64(0.8938733138152414), np.float64(0.10384253876385711), np.float64(0.19186800488893724)]\n",
      "[np.float64(0.04253372866166821), np.float64(0.8414365901937453), np.float64(0.055389222453369955), np.float64(0.28956936764361213)]\n",
      "[np.float64(0.28048449448959667), np.float64(0.9244040693029808), np.float64(0.15778284285394895), np.float64(0.17240071569590812)]\n",
      "[np.float64(0.3770697527695264), np.float64(0.905962710666454), np.float64(0.21112744135372197), np.float64(0.5229423677941607)]\n",
      "[np.float64(0.4047946051839029), np.float64(0.4883488724299896), np.float64(0.1720480160556912), np.float64(0.33224921921795547)]\n",
      "[np.float64(0.46812714974781244), np.float64(0.9244040693029808), np.float64(0.16501826559438304), np.float64(0.3745375832037388)]\n",
      "[np.float64(0.45142078437599414), np.float64(0.905962710666454), np.float64(0.22236414202513982), np.float64(0.5229423677941607)]\n",
      "[np.float64(0.288858391171962), np.float64(0.7113642071379058), np.float64(0.09676709030549926), np.float64(0.22989509562763372)]\n",
      "[np.float64(0.28048449448959667), np.float64(0.4883488724299896), np.float64(0.112922353940269), np.float64(0.3745375832037388)]\n",
      "[np.float64(0.21486820205509138), np.float64(0.8938733138152414), np.float64(0.14290634822218456), np.float64(0.24794842266296585)]\n",
      "[np.float64(0.288858391171962), np.float64(0.0673229995771539), np.float64(0.22123994673135872), np.float64(0.516737387610547)]\n",
      "[np.float64(0.32213048258682725), np.float64(0.23641512095268305), np.float64(0.10384253876385711), np.float64(0.31299993734829706)]\n",
      "[np.float64(0.28048449448959667), np.float64(0.8938733138152414), np.float64(0.19137053767756254), np.float64(0.48251432197641253)]\n",
      "[np.float64(0.21486820205509138), np.float64(0.8938733138152414), np.float64(0.17881861592109563), np.float64(0.48251432197641253)]\n",
      "[np.float64(0.32213048258682725), np.float64(0.15693779746962963), np.float64(0.10384253876385711), np.float64(0.2706306227219902)]\n",
      "[np.float64(0.04253372866166821), np.float64(0.6177764190133891), np.float64(0.0456855956983819), np.float64(0.17240071569590812)]\n",
      "[np.float64(0.3770697527695264), np.float64(0.7406193621284951), np.float64(0.15039484293768782), np.float64(0.33224921921795547)]\n",
      "[np.float64(0.4047946051839029), np.float64(0.7113642071379058), np.float64(0.09851822510379796), np.float64(0.11168558225813571)]\n",
      "[np.float64(0.4111483479013605), np.float64(0.23641512095268305), np.float64(0.10384253876385711), np.float64(0.22989509562763372)]\n",
      "[np.float64(0.4608928765621448), np.float64(0.17474403470901753), np.float64(0.21994985886701182), np.float64(0.516737387610547)]\n",
      "[np.float64(0.19167730894529192), np.float64(0.8191297362969987), np.float64(0.08989291771131593), np.float64(0.22989509562763372)]\n",
      "[np.float64(0.288858391171962), np.float64(0.45662368621545923), np.float64(0.11108830018619152), np.float64(0.3970444488398279)]\n",
      "[np.float64(0.3464147535147417), np.float64(0.8191297362969987), np.float64(0.16501826559438304), np.float64(0.28956936764361213)]\n",
      "[np.float64(0.45142078437599414), np.float64(0.7406193621284951), np.float64(0.21469681887413966), np.float64(0.5229423677941607)]\n",
      "[np.float64(0.4047946051839029), np.float64(0.7113642071379058), np.float64(0.19137053767756254), np.float64(0.45135527615622323)]\n",
      "[np.float64(0.3770697527695264), np.float64(0.8414365901937453), np.float64(0.12782767905046835), np.float64(0.20858840604847376)]\n",
      "[np.float64(0.43380664333313046), np.float64(0.36584038782158695), np.float64(0.2227980443062994), np.float64(0.516737387610547)]\n",
      "[np.float64(0.16262027165805448), np.float64(0.5854555455076861), np.float64(0.09676709030549926), np.float64(0.2706306227219902)]\n",
      "[np.float64(0.4285834920176886), np.float64(0.8414365901937453), np.float64(0.185276867068086), np.float64(0.3745375832037388)]\n",
      "[np.float64(0.10679506274291013), np.float64(0.905962710666454), np.float64(0.07842637346193736), np.float64(0.3745375832037388)]\n",
      "[np.float64(0.32213048258682725), np.float64(0.7113642071379058), np.float64(0.11846955439713823), np.float64(0.35565723499949603)]\n",
      "[np.float64(0.1360712468823601), np.float64(0.2597261664162907), np.float64(0.08989291771131593), np.float64(0.2706306227219902)]\n",
      "[np.float64(0.354296091903731), np.float64(0.5854555455076861), np.float64(0.09676709030549926), np.float64(0.22989509562763372)]\n",
      "[np.float64(0.4689379348230709), np.float64(0.6177764190133891), np.float64(0.21994985886701182), np.float64(0.5301585433223809)]\n",
      "[np.float64(0.43380664333313046), np.float64(0.36584038782158695), np.float64(0.2225376014416509), np.float64(0.5280533268043567)]\n",
      "[np.float64(0.38431612243874413), np.float64(0.23641512095268305), np.float64(0.10384253876385711), np.float64(0.22989509562763372)]\n",
      "[np.float64(0.22282013252563887), np.float64(0.5854555455076861), np.float64(0.1334811223598883), np.float64(0.22989509562763372)]\n",
      "[np.float64(0.4475317645158203), np.float64(0.9244040693029808), np.float64(0.17881861592109563), np.float64(0.3745375832037388)]\n",
      "[np.float64(0.16262027165805448), np.float64(0.8191297362969987), np.float64(0.09676709030549926), np.float64(0.22989509562763372)]\n",
      "[np.float64(0.4689379348230709), np.float64(0.7406193621284951), np.float64(0.21764662848482993), np.float64(0.516737387610547)]\n"
     ]
    }
   ],
   "source": [
    "# TODO: Implement the code below to test the \"gaussian_probability_density_function\" function for one of the classes.\n",
    "# TODO: Test with one datapoint from the learned class.\n",
    "\n",
    "for_each_gaussian(iris_setosa)\n",
    "for_each_gaussian(iris_versicolor)\n",
    "for_each_gaussian(iris_virginica)\n",
    "\n",
    "#print(iris_setosa.train.gaussian_probability_density)\n",
    "\n",
    "# TODO: Print the probability density\n",
    "for n in iris_setosa.train.gaussian_probability_density:\n",
    "        print(n)"
   ]
  },
  {
   "cell_type": "code",
   "execution_count": 134,
   "metadata": {},
   "outputs": [
    {
     "name": "stdout",
     "output_type": "stream",
     "text": [
      "[np.float64(0.5213776179339807), np.float64(0.7564254853984148), np.float64(0.21114783937746154), np.float64(0.5263932362387552)]\n",
      "[np.float64(0.2709163466460186), np.float64(0.8520046319051097), np.float64(0.16235227514465933), np.float64(0.39931150652690933)]\n",
      "[np.float64(0.2091433496702326), np.float64(0.8520046319051097), np.float64(0.10657607476433376), np.float64(0.28927679942947937)]\n",
      "[np.float64(0.5213776179339807), np.float64(0.8520046319051097), np.float64(0.21114783937746154), np.float64(0.5386543522382846)]\n",
      "[np.float64(0.2709163466460186), np.float64(0.8833216700194215), np.float64(0.10915835923557207), np.float64(0.22558747124714712)]\n",
      "[np.float64(0.5053640961529083), np.float64(0.6365979992403517), np.float64(0.1696525357150208), np.float64(0.2674939942724832)]\n",
      "[np.float64(0.3554348857655175), np.float64(0.8520046319051097), np.float64(0.12422901070449656), np.float64(0.3558872753914998)]\n",
      "[np.float64(0.31305018789789035), np.float64(0.8520046319051097), np.float64(0.20153234794568614), np.float64(0.5050222692220111)]\n",
      "[np.float64(0.4504124200401079), np.float64(0.22407612250892708), np.float64(0.09931630778277752), np.float64(0.33366666148451785)]\n",
      "[np.float64(0.37418435737406963), np.float64(0.692539853078474), np.float64(0.11400323577006706), np.float64(0.2462149917922176)]\n",
      "[np.float64(0.5152290329669253), np.float64(0.8520046319051097), np.float64(0.17671793714127482), np.float64(0.3558872753914998)]\n",
      "[np.float64(0.060210048896411766), np.float64(0.6365979992403517), np.float64(0.0811231053382935), np.float64(0.311396120169167)]\n",
      "[np.float64(0.10103021608062805), np.float64(0.8520046319051097), np.float64(0.10183602481071248), np.float64(0.4398567807160857)]\n",
      "[np.float64(0.5213776179339807), np.float64(0.6365979992403517), np.float64(0.2150973367535731), np.float64(0.5263932362387552)]\n",
      "[np.float64(0.2303688616572709), np.float64(0.8520046319051097), np.float64(0.12422901070449656), np.float64(0.22558747124714712)]\n",
      "[np.float64(0.5152290329669253), np.float64(0.5078545011521116), np.float64(0.15487264116389096), np.float64(0.4398567807160857)]\n",
      "[np.float64(0.1580166610103305), np.float64(0.920700379005026), np.float64(0.18349287836057449), np.float64(0.5050222692220111)]\n",
      "[np.float64(0.4813086964155246), np.float64(0.05482710913531661), np.float64(0.10657607476433376), np.float64(0.2462149917922176)]\n",
      "[np.float64(0.28975450392005603), np.float64(0.5659396125766124), np.float64(0.10657607476433376), np.float64(0.2462149917922176)]\n",
      "[np.float64(0.46816855910390304), np.float64(0.7564254853984148), np.float64(0.2066124807694409), np.float64(0.5263932362387552)]\n",
      "[np.float64(0.5053640961529083), np.float64(0.27530375755994957), np.float64(0.22109897116694327), np.float64(0.5411406360975233)]\n",
      "[np.float64(0.43466451728435096), np.float64(0.27530375755994957), np.float64(0.1696525357150208), np.float64(0.475675583218104)]\n",
      "[np.float64(0.2091433496702326), np.float64(0.8520046319051097), np.float64(0.10657607476433376), np.float64(0.20573845976364558)]\n",
      "[np.float64(0.08824288090711957), np.float64(0.8520046319051097), np.float64(0.09931630778277752), np.float64(0.2462149917922176)]\n",
      "[np.float64(0.28975450392005603), np.float64(0.8520046319051097), np.float64(0.12156062861389269), np.float64(0.2462149917922176)]\n",
      "[np.float64(0.5213776179339807), np.float64(0.016416092538126134), np.float64(0.11400323577006706), np.float64(0.33366666148451785)]\n",
      "[np.float64(0.43466451728435096), np.float64(0.7564254853984148), np.float64(0.11663552860959847), np.float64(0.3558872753914998)]\n",
      "[np.float64(0.5213776179339807), np.float64(0.27530375755994957), np.float64(0.16235227514465933), np.float64(0.2674939942724832)]\n",
      "[np.float64(0.28975450392005603), np.float64(0.920700379005026), np.float64(0.09225708160619583), np.float64(0.2462149917922176)]\n",
      "[np.float64(0.5053640961529083), np.float64(0.8520046319051097), np.float64(0.2150973367535731), np.float64(0.5263932362387552)]\n",
      "[np.float64(0.5285276437352696), np.float64(0.1478497460951976), np.float64(0.09225708160619583), np.float64(0.2462149917922176)]\n",
      "[np.float64(0.08824288090711957), np.float64(0.920700379005026), np.float64(0.09931630778277752), np.float64(0.2462149917922176)]\n",
      "[np.float64(0.14071073139487347), np.float64(0.5659396125766124), np.float64(0.07885203596177535), np.float64(0.2462149917922176)]\n",
      "[np.float64(0.5264417876713064), np.float64(0.8520046319051097), np.float64(0.21114783937746154), np.float64(0.475675583218104)]\n",
      "[np.float64(0.19247736579133584), np.float64(0.920700379005026), np.float64(0.10915835923557207), np.float64(0.15181586604030542)]\n",
      "[np.float64(0.5213776179339807), np.float64(0.3219181759638067), np.float64(0.1292072842158466), np.float64(0.28927679942947937)]\n",
      "[np.float64(0.3321805880459192), np.float64(0.692539853078474), np.float64(0.10657607476433376), np.float64(0.28927679942947937)]\n",
      "[np.float64(0.5152290329669253), np.float64(0.803330706439045), np.float64(0.1959527121967657), np.float64(0.4398567807160857)]\n",
      "[np.float64(0.39652763350595766), np.float64(0.920700379005026), np.float64(0.1959527121967657), np.float64(0.475675583218104)]\n",
      "[np.float64(0.46816855910390304), np.float64(0.803330706439045), np.float64(0.13189656745650113), np.float64(0.15181586604030542)]\n"
     ]
    }
   ],
   "source": [
    "for n in iris_versicolor.train.gaussian_probability_density:\n",
    "    print(n)"
   ]
  },
  {
   "cell_type": "markdown",
   "metadata": {},
   "source": [
    "As a test, take one datapoint from one of the other classes and see if the predicted probability changes."
   ]
  },
  {
   "cell_type": "markdown",
   "metadata": {},
   "source": [
    "Think a bit why the probability changes, what could affect the prediction?"
   ]
  },
  {
   "cell_type": "markdown",
   "metadata": {},
   "source": [
    "## Prepare Naive Bayes for binary classification"
   ]
  },
  {
   "cell_type": "markdown",
   "metadata": {},
   "source": [
    "### 6) Prepare the data for inference\n",
    "\n",
    "Before we train and test the naive bayes for multiple classes, we should get our data in order.\n",
    "\n",
    "Similar to how we did previously, we should now split two classes into a train and test set, you may choose which two classes freely."
   ]
  },
  {
   "cell_type": "code",
   "execution_count": 135,
   "metadata": {},
   "outputs": [],
   "source": [
    "# TODO: Split two classes into train and test sets.\n",
    "\n",
    "# already done in my class flower\n",
    "\n",
    "# TODO: Sepearte the features and lables for both the train and test set.\n",
    "\n",
    "# already done in my class flower\n",
    "\n",
    "\n",
    "# Class A : iris_setosa\n",
    "\n",
    "# Class B : iris_versicolor"
   ]
  },
  {
   "cell_type": "markdown",
   "metadata": {},
   "source": [
    "### 7) Class A vs Class B for binary classification\n",
    "\n",
    "**Note:** You might need to go back and forth a bit in the following cells during your implementation of your code.\n",
    "\n",
    "We have to get the probability from two sets of classes and compare the two probabilities in order to make a propper prediction.\n",
    "\n",
    "Here we will implement two functions to make this possible. We seperate these functions to make the implementation of the ROC-curve easier later on.\n",
    "\n",
    "**Function 1: naive_bayes_prediction** \n",
    "* A function that returns the probabilities for each class the model for a single datapoint.\n",
    "\n",
    "**Function 2: probabilities_to_prediction**\n",
    "* A function that takes in probabilities and returns a prediction."
   ]
  },
  {
   "cell_type": "code",
   "execution_count": 136,
   "metadata": {},
   "outputs": [],
   "source": [
    "def naive_bayes_prediction(feature_stats, data_point):\n",
    "    probabilities = {}\n",
    "    \n",
    "    for class_label, stats in feature_stats.items():\n",
    "        mean, stdev, prior = stats['mean'], stats['stdev'], stats['prior']\n",
    "        \n",
    "        # Probability for this class\n",
    "        # print(\"prior\", prior)\n",
    "        prob = float(prior)\n",
    "        for x, m, s in zip(data_point, mean, stdev):\n",
    "            # print(f\"x: {x}, mean: {m}, std: {s}, prob: {prob}\")\n",
    "            prob *= gaussian_probability_density_function(x, m, s)\n",
    "        \n",
    "        probabilities[class_label] = prob\n",
    "\n",
    "    return probabilities"
   ]
  },
  {
   "cell_type": "code",
   "execution_count": 137,
   "metadata": {},
   "outputs": [],
   "source": [
    "def probabilities_to_prediction(probabilities):\n",
    "    class_prediction = max(probabilities, key=probabilities.get)\n",
    "    return class_prediction"
   ]
  },
  {
   "cell_type": "markdown",
   "metadata": {},
   "source": [
    "To test the function we need the feature metrics from the classes we choose. \n",
    "\n",
    "**Note:** Choose the correct train/test set and the correct feature/label split!"
   ]
  },
  {
   "cell_type": "code",
   "execution_count": 138,
   "metadata": {},
   "outputs": [],
   "source": [
    "# TODO: Get the feature metrics for the classes."
   ]
  },
  {
   "cell_type": "markdown",
   "metadata": {},
   "source": [
    "Now we should have implemented all the neccessary parts to train a naive bayes algorithm and do inference on it. Implement a small test workflow for two of your chosen classes."
   ]
  },
  {
   "cell_type": "code",
   "execution_count": 139,
   "metadata": {},
   "outputs": [],
   "source": [
    "def evaluate_and_get_probs(item, feature_stats, actual_class_name, positive_class_name):\n",
    "    correct = 0\n",
    "    total = len(item.test.features)\n",
    "\n",
    "    prediction_probabilities = []\n",
    "    test_labels = []\n",
    "\n",
    "    for x, true_label in zip(item.test.features, item.test.labels):\n",
    "        probs = naive_bayes_prediction(feature_stats, x)  \n",
    "        prediction = probabilities_to_prediction(probs)\n",
    "\n",
    "        is_correct = (prediction == actual_class_name)\n",
    "        correct += int(is_correct)\n",
    "\n",
    "        print(f\"Features: {x}, Prediction = {prediction}, Actual = {actual_class_name}\")\n",
    "\n",
    "        p_pos = probs[positive_class_name]\n",
    "        prediction_probabilities.append(p_pos)\n",
    "\n",
    "        if actual_class_name == positive_class_name:\n",
    "            test_labels.append(1)\n",
    "        else:\n",
    "            test_labels.append(0)\n",
    "\n",
    "    accuracy_test = correct / total\n",
    "    print(f\"\\nAccuracy on {actual_class_name} test samples = {accuracy_test:.2f}\\n\")\n",
    "\n",
    "    return prediction_probabilities, test_labels"
   ]
  },
  {
   "cell_type": "code",
   "execution_count": 140,
   "metadata": {},
   "outputs": [
    {
     "name": "stdout",
     "output_type": "stream",
     "text": [
      "Features: [5.5 2.5 4.  1.3], Prediction = setosa, Actual = setosa\n",
      "Features: [4.3 3.  1.1 0.1], Prediction = setosa, Actual = setosa\n",
      "Features: [7.9 3.8 6.4 2. ], Prediction = setosa, Actual = setosa\n",
      "Features: [6.4 3.2 5.3 2.3], Prediction = setosa, Actual = setosa\n",
      "Features: [5.  3.4 1.5 0.2], Prediction = versicolor, Actual = setosa\n",
      "Features: [5.4 3.9 1.7 0.4], Prediction = versicolor, Actual = setosa\n",
      "Features: [5.7 2.6 3.5 1. ], Prediction = setosa, Actual = setosa\n",
      "Features: [6.1 3.  4.6 1.4], Prediction = setosa, Actual = setosa\n",
      "Features: [4.7 3.2 1.6 0.2], Prediction = versicolor, Actual = setosa\n",
      "Features: [5.8 2.8 5.1 2.4], Prediction = setosa, Actual = setosa\n",
      "\n",
      "Accuracy on setosa test samples = 0.70\n",
      "\n",
      "Features: [7.6 3.  6.6 2.1], Prediction = setosa, Actual = versicolor\n",
      "Features: [7.2 3.2 6.  1.8], Prediction = setosa, Actual = versicolor\n",
      "Features: [5.1 3.4 1.5 0.2], Prediction = versicolor, Actual = versicolor\n",
      "Features: [6.1 2.6 5.6 1.4], Prediction = setosa, Actual = versicolor\n",
      "Features: [6.4 2.8 5.6 2.1], Prediction = setosa, Actual = versicolor\n",
      "Features: [4.9 2.5 4.5 1.7], Prediction = setosa, Actual = versicolor\n",
      "Features: [5.4 3.  4.5 1.5], Prediction = setosa, Actual = versicolor\n",
      "Features: [5.  2.3 3.3 1. ], Prediction = setosa, Actual = versicolor\n",
      "Features: [6.8 2.8 4.8 1.4], Prediction = setosa, Actual = versicolor\n",
      "Features: [5.5 3.5 1.3 0.2], Prediction = versicolor, Actual = versicolor\n",
      "\n",
      "Accuracy on versicolor test samples = 0.20\n",
      "\n"
     ]
    }
   ],
   "source": [
    "feature_stats = {\n",
    "    \"setosa\": {\n",
    "        'mean': iris_setosa.train.means,\n",
    "        'stdev': iris_setosa.train.std_devs,\n",
    "        'prior': iris_setosa.train.prior\n",
    "    },\n",
    "    \"versicolor\": {\n",
    "        'mean': iris_versicolor.train.means,\n",
    "        'stdev': iris_versicolor.train.std_devs,\n",
    "        'prior': iris_versicolor.train.prior\n",
    "    }\n",
    "}\n",
    "\n",
    "pred_probs_setosa, labels_setosa = evaluate_and_get_probs(\n",
    "    iris_setosa,\n",
    "    feature_stats,\n",
    "    actual_class_name=\"setosa\",\n",
    "    positive_class_name=\"setosa\"\n",
    ")\n",
    "\n",
    "pred_probs_versi, labels_versi = evaluate_and_get_probs(\n",
    "    iris_versicolor,\n",
    "    feature_stats,\n",
    "    actual_class_name=\"versicolor\",\n",
    "    positive_class_name=\"versicolor\"\n",
    ")\n",
    "\n",
    "all_pred_probs = pred_probs_setosa + pred_probs_versi\n",
    "all_labels = labels_setosa + labels_versi\n"
   ]
  },
  {
   "cell_type": "markdown",
   "metadata": {},
   "source": [
    "## ROC-curve\n",
    "\n",
    "A ROC curve, or *Receiver Operating Characteristic curve*, is a graphical plot that illustrates the performance of a binary classifier such as our Naive Bayes model.\n",
    "\n",
    "More info can be found in the course material and here: [https://en.wikipedia.org/wiki/Receiver_operating_characteristic](https://en.wikipedia.org/wiki/Receiver_operating_characteristic)\n",
    "\n",
    "Another good illustration by Google can be found here: [https://developers.google.com/machine-learning/crash-course/classification/roc-and-auc](https://developers.google.com/machine-learning/crash-course/classification/roc-and-auc)\n",
    "\n",
    "Now that we have a prediction model, we would want to try it out and test it using a ROC-curve."
   ]
  },
  {
   "cell_type": "markdown",
   "metadata": {},
   "source": [
    "### 8) True Positive Rate (TPR) and False Positive Rate (FPR)\n",
    "\n",
    "From our prediction function we get probabilities, and for prediction purposes we have just predicted the one with the highest probability.\n",
    "\n",
    "To plot a ROC-curve, we need the TPR and FPR for the binary classification. We will implement this here.\n",
    "\n",
    "**Note 1:** The threshold is is a value that goes from 0 to 1. \n",
    "\n",
    "**Note 2:** One of the two classes will be seen as \"the positive class\" (prediction over the threshold) and the other as \"the negative class\" (prediction under the threshold).\n",
    "\n",
    "**Note 3:** The threshold stepsize will decide the size of the returned TPR/FPR list. A value of 0.1 will give 10 elements (0 to 1 in increments of 0.1)"
   ]
  },
  {
   "cell_type": "code",
   "execution_count": 141,
   "metadata": {},
   "outputs": [
    {
     "name": "stdout",
     "output_type": "stream",
     "text": [
      "Python list: [0.0, 0.1, 0.2, 0.3, 0.4, 0.5, 0.6, 0.7, 0.8, 0.9]\n",
      "Numpy linspace: [0.  0.1 0.2 0.3 0.4 0.5 0.6 0.7 0.8 0.9 1. ]\n",
      "Numpy linspace (no endpoint): [0.  0.1 0.2 0.3 0.4 0.5 0.6 0.7 0.8 0.9]\n"
     ]
    }
   ],
   "source": [
    "# Stepsize demonstration\n",
    "print(\"Python list:\", [x/10 for x in range(0,10,1)])\n",
    "\n",
    "# Stepsize demonstration with numpy:\n",
    "print(\"Numpy linspace:\", np.linspace(0,1,11))\n",
    "print(\"Numpy linspace (no endpoint):\", np.linspace(0,1,10,endpoint=False))"
   ]
  },
  {
   "cell_type": "code",
   "execution_count": 142,
   "metadata": {},
   "outputs": [],
   "source": [
    "def plot_ROC(TPR, FPR):\n",
    "    # Trier les points par FPR croissant\n",
    "    sorted_pairs = sorted(zip(FPR, TPR), key=lambda x: x[0])\n",
    "    FPR_sorted, TPR_sorted = zip(*sorted_pairs)\n",
    "    \n",
    "    # Calculer l'AUC correctement avec np.trapz(y, x)\n",
    "    auc_score = np.trapezoid(TPR_sorted, x=FPR_sorted)  # Ordre correct : y = TPR, x = FPR\n",
    "    \n",
    "    plt.figure(figsize=(6, 6))\n",
    "    plt.plot(FPR_sorted, TPR_sorted, label=f\"ROC (AUC={auc_score:.3f})\")\n",
    "    plt.plot([0, 1], [0, 1], 'r--', label=\"Random Guess\")\n",
    "    plt.xlabel(\"False Positive Rate (FPR)\")\n",
    "    plt.ylabel(\"True Positive Rate (TPR)\")\n",
    "    plt.title(\"ROC Curve\")\n",
    "    plt.grid(True)\n",
    "    plt.legend(loc=\"lower right\")\n",
    "    plt.show()\n",
    "\n",
    "    print(f\"AUC : {auc_score:.3f}\")\n"
   ]
  },
  {
   "cell_type": "code",
   "execution_count": 143,
   "metadata": {},
   "outputs": [],
   "source": [
    "def TPR_and_FPR(prediction_probabilities, true_labels, threshold_stepsize=0.1):\n",
    "    thresholds = np.arange(0.0, 1.1, threshold_stepsize)\n",
    "    TPR = []\n",
    "    FPR = []\n",
    "\n",
    "    for threshold in thresholds:\n",
    "        # Prédictions binaires selon le seuil\n",
    "        predicted_labels = (np.array(prediction_probabilities) >= threshold).astype(int)\n",
    "\n",
    "        # Calcul des TP, FP, TN, FN\n",
    "        TP = np.sum((predicted_labels == 1) & (true_labels == 1))\n",
    "        FP = np.sum((predicted_labels == 1) & (true_labels == 0))\n",
    "        TN = np.sum((predicted_labels == 0) & (true_labels == 0))\n",
    "        FN = np.sum((predicted_labels == 0) & (true_labels == 1))\n",
    "\n",
    "        # Calcul de TPR et FPR\n",
    "        tpr = TP / (TP + FN) if (TP + FN) > 0 else 0  # Recall / Sensitivity\n",
    "        fpr = FP / (FP + TN) if (FP + TN) > 0 else 0  # False Positive Rate\n",
    "\n",
    "        TPR.append(tpr)\n",
    "        FPR.append(fpr)\n",
    "\n",
    "    return TPR, FPR"
   ]
  },
  {
   "cell_type": "code",
   "execution_count": 144,
   "metadata": {},
   "outputs": [
    {
     "name": "stdout",
     "output_type": "stream",
     "text": [
      "TPR = [0, 0, 0, 0, 0, 0, 0, 0, 0, 0, 0]\n",
      "FPR = [0, 0, 0, 0, 0, 0, 0, 0, 0, 0, 0]\n"
     ]
    }
   ],
   "source": [
    "# TODO: Test the \"TPR_and_FPR\" function on the model you have created previously.\n",
    "TPR, FPR = TPR_and_FPR(all_pred_probs, all_labels, threshold_stepsize=0.1)\n",
    "print(\"TPR =\", TPR)\n",
    "print(\"FPR =\", FPR)\n"
   ]
  },
  {
   "cell_type": "markdown",
   "metadata": {},
   "source": [
    "### 9) Plot the TPR and FPR\n",
    "\n",
    "To better see what is going on, we can plot the TPR and FPR. We can also calculate the Area Under the ROC Curve (AUC or AUROC) at the same time."
   ]
  },
  {
   "cell_type": "code",
   "execution_count": 145,
   "metadata": {},
   "outputs": [],
   "source": [
    "#def plot_ROC(TPR, FPR):\n",
    "\n",
    "    #auc_score = np.trapezoid(TPR, x=FPR)\n",
    "\n",
    "    #plt.figure(figsize=(6, 6))\n",
    "    #plt.plot(FPR_sorted, TPR_sorted, label=f\"ROC (AUC={auc_score:.3f})\")\n",
    "    #plt.plot([0, 1], [0, 1], 'r--')\n",
    "    ##plt.xlabel(\"FPR\")\n",
    "    #plt.ylabel(\"TPR\")\n",
    "    #plt.title(\"ROC Curve\")\n",
    "    #plt.legend(loc=\"lower right\")\n",
    "#    #plt.grid(True)\n",
    "    #plt.show()\n",
    "\n",
    "    #print(f\"AUC : {auc_score:.3f}\")"
   ]
  },
  {
   "cell_type": "code",
   "execution_count": 146,
   "metadata": {},
   "outputs": [
    {
     "data": {
      "image/png": "[encoded data removed]",
      "text/plain": [
       "<Figure size 600x600 with 1 Axes>"
      ]
     },
     "metadata": {},
     "output_type": "display_data"
    },
    {
     "name": "stdout",
     "output_type": "stream",
     "text": [
      "AUC : 0.000\n"
     ]
    }
   ],
   "source": [
    "# TODO: Test the plotting function on the TPR and FPR you just calculated.\n",
    "TPR, FPR = TPR_and_FPR(all_pred_probs, all_labels, threshold_stepsize=0.1)\n",
    "\n",
    "pairs = sorted(zip(FPR, TPR), key=lambda x: x[0])\n",
    "FPR_sorted, TPR_sorted = zip(*pairs)\n",
    "\n",
    "\n",
    "plot_ROC(TPR_sorted, FPR_sorted)\n"
   ]
  },
  {
   "cell_type": "markdown",
   "metadata": {},
   "source": [
    "## Cross-validation\n",
    "\n",
    "The final task is to take everything you have implemented so far and apply it in a cross-validation loop.\n",
    "\n",
    "**Note 1:** To better reflect a real scenarios, you should shuffle the data before doing cross-validation.\n",
    "\n",
    "**Note 2:** When using cross-validation, the interesting thing is the mean performance (mean AUC, mean accuracy, mean ROC-curve).\n",
    "\n",
    "**Note 3:** This part is a bit more free in terms of implementation, but make sure to use some of the previously implemented functions."
   ]
  },
  {
   "cell_type": "markdown",
   "metadata": {},
   "source": [
    "### 10) Cross-validation loop"
   ]
  },
  {
   "cell_type": "code",
   "execution_count": 147,
   "metadata": {},
   "outputs": [],
   "source": [
    "def cross_validation(features, labels, folds=5, threshold_stepsize=0.1):\n",
    "    features = np.array(features, dtype=float)\n",
    "    labels = np.array(labels, dtype=int)\n",
    "    N = len(labels)\n",
    "\n",
    "    indices = np.arange(N)\n",
    "    np.random.shuffle(indices)\n",
    "\n",
    "    fold_size = N // folds\n",
    "\n",
    "    all_TPR = []\n",
    "    all_FPR = []\n",
    "\n",
    "    for i in range(folds):\n",
    "        start = i * fold_size\n",
    "        end = (i+1)*fold_size if (i < folds-1) else N\n",
    "\n",
    "        test_indices = indices[start:end]\n",
    "\n",
    "        train_indices = np.concatenate((indices[:start], indices[end:]))\n",
    "\n",
    "        X_train = features[train_indices]\n",
    "        y_train = labels[train_indices]\n",
    "        X_test  = features[test_indices]\n",
    "        y_test  = labels[test_indices]\n",
    "\n",
    "        X_train_pos = X_train[y_train == 1]\n",
    "        X_train_neg = X_train[y_train == 0]\n",
    "\n",
    "        means_pos, stdevs_pos, prior_pos = calculate_feature_statistics(X_train_pos, X_train)\n",
    "        means_neg, stdevs_neg, prior_neg = calculate_feature_statistics(X_train_neg, X_train)\n",
    "\n",
    "        feature_stats_fold = {\n",
    "            1: {\n",
    "                'mean':  means_pos,\n",
    "                'stdev': stdevs_pos,\n",
    "                'prior': prior_pos\n",
    "            },\n",
    "            0: {\n",
    "                'mean':  means_neg,\n",
    "                'stdev': stdevs_neg,\n",
    "                'prior': prior_neg\n",
    "            }\n",
    "        }\n",
    "\n",
    "        prediction_probabilities = []\n",
    "        for x_vec in X_test:\n",
    "            probs = naive_bayes_prediction(feature_stats_fold, x_vec)\n",
    "            prob_pos = probs[1]\n",
    "            prediction_probabilities.append(prob_pos)\n",
    "\n",
    "        fold_TPR, fold_FPR = TPR_and_FPR(prediction_probabilities, y_test, threshold_stepsize)\n",
    "        all_TPR.append(fold_TPR)\n",
    "        all_FPR.append(fold_FPR)\n",
    "\n",
    "    all_TPR = np.array(all_TPR)\n",
    "    all_FPR = np.array(all_FPR)\n",
    "\n",
    "    mean_TPR = np.mean(all_TPR, axis=0)\n",
    "    mean_FPR = np.mean(all_FPR, axis=0)\n",
    "\n",
    "    plot_ROC(mean_TPR, mean_FPR)\n"
   ]
  },
  {
   "cell_type": "markdown",
   "metadata": {},
   "source": [
    "### 11) 10-fold Cross-validation on all classes\n",
    "\n",
    "Test the \"cross_validation\" function on all the classes against eachother using 10 folds.\n",
    "\n",
    "* Iris-setosa vs Iris-versicolor\n",
    "* Iris-setosa vs Iris-virginica\n",
    "* Iris-versicolor vs Iris-virginica"
   ]
  },
  {
   "cell_type": "code",
   "execution_count": 148,
   "metadata": {},
   "outputs": [
    {
     "name": "stdout",
     "output_type": "stream",
     "text": [
      "Cross-validation Setosa vs Versicolor\n"
     ]
    },
    {
     "data": {
      "image/png": "[encoded data removed]",
      "text/plain": [
       "<Figure size 600x600 with 1 Axes>"
      ]
     },
     "metadata": {},
     "output_type": "display_data"
    },
    {
     "name": "stdout",
     "output_type": "stream",
     "text": [
      "AUC : 0.500\n"
     ]
    }
   ],
   "source": [
    "# TODO: Implement and test cross-validation function on all classes.\n",
    "\n",
    "\n",
    "features_setosa = iris_setosa.train.features\n",
    "features_versi = iris_versicolor.train.features\n",
    "\n",
    "labels_setosa = np.ones(len(features_setosa), dtype=int)\n",
    "labels_versi = np.zeros(len(features_versi), dtype=int)\n",
    "\n",
    "all_features = np.vstack([features_setosa, features_versi])\n",
    "all_labels = np.concatenate([labels_setosa, labels_versi])\n",
    "\n",
    "print(\"Cross-validation Setosa vs Versicolor\")\n",
    "cross_validation(all_features, all_labels, folds=10, threshold_stepsize=0.1)\n"
   ]
  },
  {
   "cell_type": "code",
   "execution_count": 149,
   "metadata": {},
   "outputs": [
    {
     "name": "stdout",
     "output_type": "stream",
     "text": [
      "Cross-validation Setosa vs Virginica\n"
     ]
    },
    {
     "data": {
      "image/png": "[encoded data removed]",
      "text/plain": [
       "<Figure size 600x600 with 1 Axes>"
      ]
     },
     "metadata": {},
     "output_type": "display_data"
    },
    {
     "name": "stdout",
     "output_type": "stream",
     "text": [
      "AUC : 0.500\n"
     ]
    }
   ],
   "source": [
    "# TODO: Implement and test cross-validation function on all classes.\n",
    "features_setosa = iris_setosa.train.features\n",
    "features_virgi = iris_virginica.train.features\n",
    "\n",
    "labels_setosa = np.ones(len(features_setosa), dtype=int)   \n",
    "labels_virgi = np.zeros(len(features_virgi), dtype=int)\n",
    "\n",
    "all_features = np.vstack([features_setosa, features_virgi])\n",
    "all_labels = np.concatenate([labels_setosa, labels_virgi])\n",
    "\n",
    "print(\"Cross-validation Setosa vs Virginica\")\n",
    "cross_validation(all_features, all_labels, folds=10, threshold_stepsize=0.1)"
   ]
  },
  {
   "cell_type": "code",
   "execution_count": 150,
   "metadata": {},
   "outputs": [
    {
     "name": "stdout",
     "output_type": "stream",
     "text": [
      "Cross-validation Versicolor vs Virginica\n"
     ]
    },
    {
     "data": {
      "image/png": "[encoded data removed]",
      "text/plain": [
       "<Figure size 600x600 with 1 Axes>"
      ]
     },
     "metadata": {},
     "output_type": "display_data"
    },
    {
     "name": "stdout",
     "output_type": "stream",
     "text": [
      "AUC : 0.500\n"
     ]
    }
   ],
   "source": [
    "# TODO: Implement and test cross-validation function on all classes.\n",
    "features_versi = iris_versicolor.train.features\n",
    "features_virgi = iris_virginica.train.features\n",
    "\n",
    "labels_versi = np.ones(len(features_versi), dtype=int)\n",
    "labels_virgi = np.zeros(len(features_virgi), dtype=int)\n",
    "\n",
    "all_features = np.vstack([features_versi, features_virgi])\n",
    "all_labels = np.concatenate([labels_versi, labels_virgi])\n",
    "\n",
    "print(\"Cross-validation Versicolor vs Virginica\")\n",
    "cross_validation(all_features, all_labels, folds=10, threshold_stepsize=0.1)\n"
   ]
  },
  {
   "cell_type": "markdown",
   "metadata": {},
   "source": [
    "# Questions for examination:\n",
    "\n",
    "In addition to completing the assignment with all its tasks, you should also prepare to answer the following questions:\n",
    "\n",
    "1) Why is it called \"naive bayes\"?\n",
    "\n",
    "2) What are some downsides of the naive bayes learning algorithm?\n",
    "\n",
    "3) When using ROC-curves, what is the theoretical best and worst result you can get?\n",
    "\n",
    "4) When using ROC-curves, in this assignment for example, is a higher threshold-stepsize always better?  \n",
    "\n",
    "5) When using cross-validation and ROC-curves, why is it important to take the correct mean values? What could go wrong?\n"
   ]
  },
  {
   "cell_type": "markdown",
   "metadata": {},
   "source": [
    "# Finished!\n",
    "\n",
    "Was part of the setup incorrect? Did you spot any inconsistencies in the assignment? Could something improve?\n",
    "\n",
    "If so, please write them and send via email and send it to:\n",
    "\n",
    "* marcus.gullstrand@ju.se\n",
    "\n",
    "Thank you!"
   ]
  },
  {
   "cell_type": "code",
   "execution_count": null,
   "metadata": {},
   "outputs": [],
   "source": []
  },
  {
   "cell_type": "code",
   "execution_count": null,
   "metadata": {},
   "outputs": [],
   "source": []
  },
  {
   "cell_type": "code",
   "execution_count": null,
   "metadata": {},
   "outputs": [],
   "source": []
  }
 ],
 "metadata": {
  "kernelspec": {
   "display_name": "Python 3 (ipykernel)",
   "language": "python",
   "name": "python3"
  },
  "language_info": {
   "codemirror_mode": {
    "name": "ipython",
    "version": 3
   },
   "file_extension": ".py",
   "mimetype": "text/x-python",
   "name": "python",
   "nbconvert_exporter": "python",
   "pygments_lexer": "ipython3",
   "version": "3.9.6"
  }
 },
 "nbformat": 4,
 "nbformat_minor": 4
}
