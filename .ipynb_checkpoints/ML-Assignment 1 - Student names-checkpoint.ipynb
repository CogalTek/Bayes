{
 "cells": [
  {
   "cell_type": "markdown",
   "metadata": {},
   "source": [
    "# Machine Learning - Assignment 1\n",
    "\n",
    "## Naive Bayes Learning algorithm, Cross-validation, and ROC-Curves"
   ]
  },
  {
   "cell_type": "markdown",
   "metadata": {},
   "source": [
    "The aim of the assignment is to implement:\n",
    "\n",
    "* Naive Bayes learning algorithm for binary classification tasks\n",
    "* Visualization to plot a ROC-curve\n",
    "* A cross-validation test\n",
    "* Visualization of the average ROC-curve of a cross-validation test\n",
    "\n",
    "Follow the instructions and implement what is missing to complete the assignment. Some functions have been started to help you a little bit with the inputs or outputs of the function.\n",
    "\n",
    "**Note:** You might need to go back and forth during your implementation of the code. The structure is set up to make implementation easier, but how you return values from the different functions might vary, and you might find yourself going back and change something to make it easier later on."
   ]
  },
  {
   "cell_type": "markdown",
   "metadata": {},
   "source": [
    "## Assignment preparations"
   ]
  },
  {
   "cell_type": "markdown",
   "metadata": {},
   "source": [
    "We help you out with importing the libraries and reading the data.\n",
    "\n",
    "Look at the output to get an idea of how the data is structured."
   ]
  },
  {
   "cell_type": "code",
   "execution_count": 12,
   "metadata": {},
   "outputs": [],
   "source": [
    "import numpy as np\n",
    "import pandas as pd\n",
    "import matplotlib.pyplot as plt\n",
    "\n",
    "from math import e, pi, sqrt"
   ]
  },
  {
   "cell_type": "code",
   "execution_count": 13,
   "metadata": {},
   "outputs": [],
   "source": [
    "class Data_set:\n",
    "    def __init__(self):\n",
    "        self.data = None\n",
    "        self.features = None\n",
    "        self.labels = None\n",
    "        self.means = 0.0\n",
    "        self.prior = 0.0\n",
    "        self.std_devs = 0.0\n",
    "\n",
    "    def fix_data_structure(self):\n",
    "        if all(isinstance(row, np.ndarray) for row in self.features):\n",
    "            try:\n",
    "                self.features = np.array(self.features, dtype=float)\n",
    "            except ValueError as e:\n",
    "                print(\"Erreur lors de la conversion :\", e)\n",
    "        else:\n",
    "            print(\"Les éléments ne sont pas tous des tableaux numpy.\")\n",
    "\n",
    "    def class_split(self):\n",
    "        self.features = self.data[:, :-1]\n",
    "        self.labels = self.data[:, -1]\n",
    "        self.fix_data_structure()\n",
    "\n",
    "    def display_features_and_labels(self):\n",
    "        print(\"Features set:\")\n",
    "        print(self.features)\n",
    "        print(\"Labels set:\")\n",
    "        print(self.labels)"
   ]
  },
  {
   "cell_type": "code",
   "execution_count": 14,
   "metadata": {},
   "outputs": [],
   "source": [
    "# creating a class to make the code cleaner\n",
    "class Flower:\n",
    "    def __init__(self):\n",
    "        self.data = None\n",
    "        self.train = Data_set()\n",
    "        self.test = Data_set()\n",
    "        self.test_size = 0.2\n",
    "\n",
    "    def train_test_split(self):\n",
    "        np.random.shuffle(data)\n",
    "        \n",
    "        split_index = int(len(self.data) * (1 - self.test_size))\n",
    "\n",
    "        self.train.data = self.data[:split_index]\n",
    "        self.test.data = self.data[split_index:]\n",
    "\n",
    "    def class_split_automation(self):\n",
    "        self.train.class_split()\n",
    "        self.test.class_split()\n",
    "        self.train.display_features_and_labels()\n",
    "        self.test.display_features_and_labels()\n",
    "\n",
    "    def display_training(self):\n",
    "        print(\"Train set:\")\n",
    "        print(self.train.data[:3])\n",
    "        print(\"Test set:\")\n",
    "        print(self.test.data[:3])"
   ]
  },
  {
   "cell_type": "code",
   "execution_count": 15,
   "metadata": {},
   "outputs": [
    {
     "name": "stdout",
     "output_type": "stream",
     "text": [
      "Full data array (features and labels):\n",
      "[[5.1 3.5 1.4 0.2 0]\n",
      " [4.9 3.0 1.4 0.2 0]\n",
      " [4.7 3.2 1.3 0.2 0]]\n",
      "\n",
      "###############\n",
      "\n",
      "Train features (first 4 columns):\n",
      "[[5.1 3.5 1.4 0.2]\n",
      " [4.9 3.0 1.4 0.2]\n",
      " [4.7 3.2 1.3 0.2]]\n",
      "\n",
      "Labels (last column):\n",
      "[[0]\n",
      " [0]\n",
      " [0]]\n",
      "\n",
      "Names of labels:\n",
      "[[0, 'Iris-setosa'], [1, 'Iris-versicolor'], [2, 'Iris-virginica']]\n"
     ]
    }
   ],
   "source": [
    "data = pd.read_csv(\"iris.csv\").to_numpy()\n",
    "\n",
    "mapped, index, unique_arr = np.unique(data[:, -1], return_index=True, return_inverse=True)\n",
    "data[:, -1] = unique_arr\n",
    "\n",
    "iris_setosa = Flower()\n",
    "iris_versicolor = Flower()\n",
    "iris_virginica = Flower()\n",
    "\n",
    "iris_setosa.data, iris_versicolor.data, iris_virginica.data = np.split(data, index[1:])\n",
    "\n",
    "print(f\"Full data array (features and labels):\\n{iris_setosa.data[:3]}\\n\")\n",
    "print(\"###############\\n\")\n",
    "print(f\"Train features (first 4 columns):\\n{iris_setosa.data[:3, :-1]}\\n\")\n",
    "print(f\"Labels (last column):\\n{iris_setosa.data[:3, -1:]}\\n\")\n",
    "print(f\"Names of labels:\\n{[[numb, name] for numb, name in enumerate(mapped)]}\")"
   ]
  },
  {
   "cell_type": "code",
   "execution_count": 16,
   "metadata": {},
   "outputs": [
    {
     "data": {
      "text/plain": [
       "array([[5.1, 3.5, 1.4, 0.2, 0],\n",
       "       [4.9, 3.0, 1.4, 0.2, 0],\n",
       "       [4.7, 3.2, 1.3, 0.2, 0]], dtype=object)"
      ]
     },
     "execution_count": 16,
     "metadata": {},
     "output_type": "execute_result"
    }
   ],
   "source": [
    "# Example print of the 3 first datapoints (similar as above):\n",
    "iris_setosa.data[:3]"
   ]
  },
  {
   "cell_type": "markdown",
   "metadata": {},
   "source": [
    "## Data handling functions\n",
    "\n",
    "As a start, we are going to implement some basic data handling functions to use in the future."
   ]
  },
  {
   "cell_type": "markdown",
   "metadata": {},
   "source": [
    "### 1) Split class into a train and test set\n",
    "\n",
    "First, we need to be able to split the class into a train and test set."
   ]
  },
  {
   "cell_type": "code",
   "execution_count": 17,
   "metadata": {},
   "outputs": [
    {
     "name": "stdout",
     "output_type": "stream",
     "text": [
      "Train set:\n",
      "[[6.3 2.8 5.1 1.5 2]\n",
      " [4.8 3.4 1.9 0.2 0]\n",
      " [6.4 2.7 5.3 1.9 2]]\n",
      "Test set:\n",
      "[[4.9 3.0 1.4 0.2 0]\n",
      " [6.1 2.8 4.0 1.3 1]\n",
      " [7.7 3.8 6.7 2.2 2]]\n",
      "Train set:\n",
      "[[5.1 3.8 1.5 0.3 0]\n",
      " [4.9 3.1 1.5 0.1 0]\n",
      " [4.4 2.9 1.4 0.2 0]]\n",
      "Test set:\n",
      "[[7.9 3.8 6.4 2.0 2]\n",
      " [6.5 3.0 5.2 2.0 2]\n",
      " [7.7 3.0 6.1 2.3 2]]\n",
      "Train set:\n",
      "[[7.4 2.8 6.1 1.9 2]\n",
      " [5.5 2.3 4.0 1.3 1]\n",
      " [5.3 3.7 1.5 0.2 0]]\n",
      "Test set:\n",
      "[[5.6 2.9 3.6 1.3 1]\n",
      " [5.2 3.4 1.4 0.2 0]\n",
      " [5.1 3.7 1.5 0.4 0]]\n"
     ]
    }
   ],
   "source": [
    "# TODO: Test the train_test_split function\n",
    "iris_setosa.train_test_split()\n",
    "iris_versicolor.train_test_split()\n",
    "iris_virginica.train_test_split()\n",
    "\n",
    "# TODO: Print the output\n",
    "iris_setosa.display_training()\n",
    "iris_versicolor.display_training()\n",
    "iris_virginica.display_training()"
   ]
  },
  {
   "cell_type": "markdown",
   "metadata": {},
   "source": [
    "### 2) Split data into features and labels\n",
    "\n",
    "The data as shown above is not always the optimal shape. To help us keep track of things, we can split the data into its features and labels seperately.\n",
    "\n",
    "Each class is 4 features and 1 label in the same array: \n",
    "\n",
    "* **[feature 1, feature 2, feature 3, feature 4, label]**\n",
    "\n",
    "It would help us later to have the features and labels in seperate arrays in the form: \n",
    "\n",
    "* **[feature 1, feature 2, feature 3, feature 4]** and **[label]**\n",
    "\n",
    "Here you are going to implement this functionallity."
   ]
  },
  {
   "cell_type": "markdown",
   "metadata": {},
   "source": [
    "We should first test the \"**class_split**\" function on one of the classes above (iris_setosa, etc...) to make sure it works properly."
   ]
  },
  {
   "cell_type": "code",
   "execution_count": 18,
   "metadata": {},
   "outputs": [
    {
     "name": "stdout",
     "output_type": "stream",
     "text": [
      "Features set:\n",
      "[[6.3 2.8 5.1 1.5]\n",
      " [4.8 3.4 1.9 0.2]\n",
      " [6.4 2.7 5.3 1.9]\n",
      " [7.  3.2 4.7 1.4]\n",
      " [6.5 2.8 4.6 1.5]\n",
      " [6.6 2.9 4.6 1.3]\n",
      " [6.1 2.6 5.6 1.4]\n",
      " [6.7 3.3 5.7 2.1]\n",
      " [5.1 3.5 1.4 0.3]\n",
      " [6.3 2.7 4.9 1.8]\n",
      " [6.2 2.2 4.5 1.5]\n",
      " [4.4 3.  1.3 0.2]\n",
      " [4.8 3.1 1.6 0.2]\n",
      " [6.7 3.1 4.7 1.5]\n",
      " [5.8 4.  1.2 0.2]\n",
      " [6.6 3.  4.4 1.4]\n",
      " [6.7 3.  5.2 2.3]\n",
      " [4.9 2.4 3.3 1. ]\n",
      " [5.2 4.1 1.5 0.1]\n",
      " [6.5 3.2 5.1 2. ]\n",
      " [5.8 2.7 5.1 1.9]\n",
      " [5.5 2.4 3.8 1.1]\n",
      " [5.9 3.  5.1 1.8]\n",
      " [5.5 4.2 1.4 0.2]\n",
      " [5.1 3.4 1.5 0.2]\n",
      " [5.8 2.8 5.1 2.4]\n",
      " [5.  3.  1.6 0.2]\n",
      " [5.7 3.8 1.7 0.3]\n",
      " [5.  3.4 1.6 0.4]\n",
      " [7.3 2.9 6.3 1.8]\n",
      " [7.7 2.8 6.7 2. ]\n",
      " [4.7 3.2 1.3 0.2]\n",
      " [6.4 3.2 4.5 1.5]\n",
      " [5.7 2.8 4.5 1.3]\n",
      " [4.5 2.3 1.3 0.3]\n",
      " [6.4 2.9 4.3 1.3]\n",
      " [5.5 2.6 4.4 1.2]\n",
      " [7.7 2.6 6.9 2.3]\n",
      " [6.3 3.3 4.7 1.6]\n",
      " [5.9 3.  4.2 1.5]]\n",
      "Labels set:\n",
      "[2 0 2 1 1 1 2 2 0 2 1 0 0 1 0 1 2 1 0 2 2 1 2 0 0 2 0 0 0 2 2 0 1 1 0 1 1\n",
      " 2 1 1]\n",
      "Features set:\n",
      "[[4.9 3.  1.4 0.2]\n",
      " [6.1 2.8 4.  1.3]\n",
      " [7.7 3.8 6.7 2.2]\n",
      " [6.2 2.8 4.8 1.8]\n",
      " [5.1 3.8 1.6 0.2]\n",
      " [4.6 3.4 1.4 0.3]\n",
      " [6.1 3.  4.6 1.4]\n",
      " [5.1 3.8 1.9 0.4]\n",
      " [5.6 2.7 4.2 1.3]\n",
      " [4.4 3.2 1.3 0.2]]\n",
      "Labels set:\n",
      "[0 1 2 2 0 0 1 0 1 0]\n",
      "Features set:\n",
      "[[5.1 3.8 1.5 0.3]\n",
      " [4.9 3.1 1.5 0.1]\n",
      " [4.4 2.9 1.4 0.2]\n",
      " [5.7 4.4 1.5 0.4]\n",
      " [5.  3.3 1.4 0.2]\n",
      " [6.  3.4 4.5 1.6]\n",
      " [4.9 2.5 4.5 1.7]\n",
      " [5.4 3.4 1.5 0.4]\n",
      " [6.1 2.8 4.7 1.2]\n",
      " [5.  3.5 1.3 0.3]\n",
      " [5.4 3.9 1.3 0.4]\n",
      " [6.8 3.2 5.9 2.3]\n",
      " [6.8 3.  5.5 2.1]\n",
      " [5.  2.  3.5 1. ]\n",
      " [5.8 2.7 3.9 1.2]\n",
      " [6.  2.2 5.  1.5]\n",
      " [6.4 2.8 5.6 2.1]\n",
      " [5.7 2.9 4.2 1.3]\n",
      " [5.1 3.3 1.7 0.5]\n",
      " [6.3 3.3 6.  2.5]\n",
      " [6.7 3.3 5.7 2.5]\n",
      " [5.7 2.6 3.5 1. ]\n",
      " [5.  3.5 1.6 0.6]\n",
      " [6.9 3.1 5.1 2.3]\n",
      " [6.2 2.9 4.3 1.3]\n",
      " [5.1 3.5 1.4 0.2]\n",
      " [6.4 3.2 5.3 2.3]\n",
      " [5.8 2.7 4.1 1. ]\n",
      " [6.  3.  4.8 1.8]\n",
      " [7.2 3.  5.8 1.6]\n",
      " [4.6 3.1 1.5 0.2]\n",
      " [6.3 2.3 4.4 1.3]\n",
      " [6.3 2.5 5.  1.9]\n",
      " [6.7 3.1 4.4 1.4]\n",
      " [6.9 3.2 5.7 2.3]\n",
      " [5.  3.2 1.2 0.2]\n",
      " [5.6 3.  4.1 1.3]\n",
      " [6.4 3.1 5.5 1.8]\n",
      " [5.5 2.5 4.  1.3]\n",
      " [5.8 2.7 5.1 1.9]]\n",
      "Labels set:\n",
      "[0 0 0 0 0 1 2 0 1 0 0 2 2 1 1 2 2 1 0 2 2 1 0 2 1 0 2 1 2 2 0 1 2 1 2 0 1\n",
      " 2 1 2]\n",
      "Features set:\n",
      "[[7.9 3.8 6.4 2. ]\n",
      " [6.5 3.  5.2 2. ]\n",
      " [7.7 3.  6.1 2.3]\n",
      " [6.2 3.4 5.4 2.3]\n",
      " [6.9 3.1 5.4 2.1]\n",
      " [4.6 3.6 1.  0.2]\n",
      " [5.5 2.4 3.7 1. ]\n",
      " [5.9 3.2 4.8 1.8]\n",
      " [5.7 2.5 5.  2. ]\n",
      " [6.  2.2 4.  1. ]]\n",
      "Labels set:\n",
      "[2 2 2 2 2 0 1 1 2 1]\n",
      "Features set:\n",
      "[[7.4 2.8 6.1 1.9]\n",
      " [5.5 2.3 4.  1.3]\n",
      " [5.3 3.7 1.5 0.2]\n",
      " [5.4 3.9 1.7 0.4]\n",
      " [7.2 3.6 6.1 2.5]\n",
      " [5.1 2.5 3.  1.1]\n",
      " [5.4 3.  4.5 1.5]\n",
      " [5.  3.6 1.4 0.2]\n",
      " [6.7 2.5 5.8 1.8]\n",
      " [7.2 3.2 6.  1.8]\n",
      " [6.3 2.9 5.6 1.8]\n",
      " [6.1 2.9 4.7 1.4]\n",
      " [5.6 2.8 4.9 2. ]\n",
      " [5.5 3.5 1.3 0.2]\n",
      " [7.6 3.  6.6 2.1]\n",
      " [7.1 3.  5.9 2.1]\n",
      " [6.9 3.1 4.9 1.5]\n",
      " [5.2 2.7 3.9 1.4]\n",
      " [5.4 3.4 1.7 0.2]\n",
      " [4.8 3.4 1.6 0.2]\n",
      " [4.3 3.  1.1 0.1]\n",
      " [5.6 3.  4.5 1.5]\n",
      " [6.  2.9 4.5 1.5]\n",
      " [4.9 3.1 1.5 0.1]\n",
      " [6.1 3.  4.9 1.8]\n",
      " [4.6 3.2 1.4 0.2]\n",
      " [5.7 3.  4.2 1.2]\n",
      " [4.9 3.1 1.5 0.1]\n",
      " [6.7 3.  5.  1.7]\n",
      " [6.8 2.8 4.8 1.4]\n",
      " [6.4 2.8 5.6 2.2]\n",
      " [5.  3.4 1.5 0.2]\n",
      " [6.5 3.  5.8 2.2]\n",
      " [5.4 3.7 1.5 0.2]\n",
      " [5.8 2.6 4.  1.2]\n",
      " [6.3 2.5 4.9 1.5]\n",
      " [4.8 3.  1.4 0.3]\n",
      " [5.6 2.5 3.9 1.1]\n",
      " [4.7 3.2 1.6 0.2]\n",
      " [4.8 3.  1.4 0.1]]\n",
      "Labels set:\n",
      "[2 1 0 0 2 1 1 0 2 2 2 1 2 0 2 2 1 1 0 0 0 1 1 0 2 0 1 0 1 1 2 0 2 0 1 1 0\n",
      " 1 0 0]\n",
      "Features set:\n",
      "[[5.6 2.9 3.6 1.3]\n",
      " [5.2 3.4 1.4 0.2]\n",
      " [5.1 3.7 1.5 0.4]\n",
      " [6.  2.7 5.1 1.6]\n",
      " [6.3 3.4 5.6 2.4]\n",
      " [6.5 3.  5.5 1.8]\n",
      " [5.2 3.5 1.5 0.2]\n",
      " [5.  2.3 3.3 1. ]\n",
      " [5.7 2.8 4.1 1.3]\n",
      " [6.7 3.1 5.6 2.4]]\n",
      "Labels set:\n",
      "[1 0 0 1 2 2 0 1 1 2]\n"
     ]
    }
   ],
   "source": [
    "# TODO: Test the class splitting function\n",
    "# iris_setosa.train.class_split()\n",
    "# iris_setosa.test.class_split()\n",
    "\n",
    "# iris_versicolor.train.class_split()\n",
    "# iris_versicolor.test.class_split()\n",
    "\n",
    "# iris_virginica.train.class_split()\n",
    "# iris_virginica.test.class_split()\n",
    "\n",
    "# TODO: Print the output\n",
    "# iris_setosa.train.display_features_and_labels()\n",
    "# iris_setosa.test.display_features_and_labels()\n",
    "\n",
    "# iris_versicolor.train.display_features_and_labels()\n",
    "# iris_versicolor.test.display_features_and_labels()\n",
    "\n",
    "# iris_virginica.train.display_features_and_labels()\n",
    "# iris_virginica.test.display_features_and_labels()\n",
    "\n",
    "# Or \n",
    "\n",
    "iris_setosa.class_split_automation()\n",
    "iris_versicolor.class_split_automation()\n",
    "iris_virginica.class_split_automation()"
   ]
  },
  {
   "cell_type": "markdown",
   "metadata": {},
   "source": [
    "We should also try to **1)** first split a class into a train and test set, **2)** split each of these two into features and abels. In total there should be 4 arrays (2 feature and 2 label arrays)."
   ]
  },
  {
   "cell_type": "raw",
   "metadata": {},
   "source": [
    "Think a bit before going to the next task, what can easily go wrong in the above code?"
   ]
  },
  {
   "cell_type": "markdown",
   "metadata": {},
   "source": [
    "## Naive Bayes learning algorithm"
   ]
  },
  {
   "cell_type": "markdown",
   "metadata": {},
   "source": [
    "When implementing the Navie Bayes learning algorithm, we can break it down into a few components.\n",
    "\n",
    "We will implement these components one at a time."
   ]
  },
  {
   "cell_type": "markdown",
   "metadata": {},
   "source": [
    "### 3) Calculate feature statistics\n",
    "\n",
    "First, we need to implement a function that returns feature statistics (means, standard deviation, priors) for a given set of feature data for a single class. This is the equivalent of \"training\" the naive bayes model.\n",
    "\n",
    "**Note 1:** Each feature gets its own mean and standard deviation!\n",
    "\n",
    "**Note 2:** The way you structure the functions (what is returned) shapes the remainder of the assignment."
   ]
  },
  {
   "cell_type": "code",
   "execution_count": 19,
   "metadata": {},
   "outputs": [],
   "source": [
    "def calculate_feature_statistics(data):\n",
    "    # Convertir en liste de float au cas où\n",
    "    data = [[float(value) for value in row] for row in data]\n",
    "\n",
    "    # Calculer les moyennes\n",
    "    means = [sum(feature_column) / len(feature_column) for feature_column in zip(*data)]\n",
    "    \n",
    "    # Calculer les écarts-types\n",
    "    std_devs = [\n",
    "        (sum((x - mean) ** 2 for x in feature_column) / (len(feature_column) - 1)) ** 0.5\n",
    "        for feature_column, mean in zip(zip(*data), means)\n",
    "    ]\n",
    "    \n",
    "    # Calculer prior (exemple : proportion de l'ensemble)\n",
    "    n = len(data)\n",
    "    prior = n / n  # Cela peut être modifié selon ton besoin réel\n",
    "    \n",
    "    return means, std_devs, prior\n"
   ]
  },
  {
   "cell_type": "markdown",
   "metadata": {},
   "source": [
    "To make sure the function works, we should test it before proceding."
   ]
  },
  {
   "cell_type": "code",
   "execution_count": 23,
   "metadata": {},
   "outputs": [
    {
     "name": "stdout",
     "output_type": "stream",
     "text": [
      "feature [[6.3 2.8 5.1 1.5]\n",
      " [4.8 3.4 1.9 0.2]\n",
      " [6.4 2.7 5.3 1.9]\n",
      " [7.  3.2 4.7 1.4]\n",
      " [6.5 2.8 4.6 1.5]\n",
      " [6.6 2.9 4.6 1.3]\n",
      " [6.1 2.6 5.6 1.4]\n",
      " [6.7 3.3 5.7 2.1]\n",
      " [5.1 3.5 1.4 0.3]\n",
      " [6.3 2.7 4.9 1.8]\n",
      " [6.2 2.2 4.5 1.5]\n",
      " [4.4 3.  1.3 0.2]\n",
      " [4.8 3.1 1.6 0.2]\n",
      " [6.7 3.1 4.7 1.5]\n",
      " [5.8 4.  1.2 0.2]\n",
      " [6.6 3.  4.4 1.4]\n",
      " [6.7 3.  5.2 2.3]\n",
      " [4.9 2.4 3.3 1. ]\n",
      " [5.2 4.1 1.5 0.1]\n",
      " [6.5 3.2 5.1 2. ]\n",
      " [5.8 2.7 5.1 1.9]\n",
      " [5.5 2.4 3.8 1.1]\n",
      " [5.9 3.  5.1 1.8]\n",
      " [5.5 4.2 1.4 0.2]\n",
      " [5.1 3.4 1.5 0.2]\n",
      " [5.8 2.8 5.1 2.4]\n",
      " [5.  3.  1.6 0.2]\n",
      " [5.7 3.8 1.7 0.3]\n",
      " [5.  3.4 1.6 0.4]\n",
      " [7.3 2.9 6.3 1.8]\n",
      " [7.7 2.8 6.7 2. ]\n",
      " [4.7 3.2 1.3 0.2]\n",
      " [6.4 3.2 4.5 1.5]\n",
      " [5.7 2.8 4.5 1.3]\n",
      " [4.5 2.3 1.3 0.3]\n",
      " [6.4 2.9 4.3 1.3]\n",
      " [5.5 2.6 4.4 1.2]\n",
      " [7.7 2.6 6.9 2.3]\n",
      " [6.3 3.3 4.7 1.6]\n",
      " [5.9 3.  4.2 1.5]]\n",
      "means [5.925, 3.0325, 3.814999999999999, 1.1824999999999997]\n",
      "std_devs [0.8420822787011755, 0.45763466562257626, 1.766432011508524, 0.7368983856470518]\n",
      "prior 1.0\n"
     ]
    }
   ],
   "source": [
    "# TODO: Make sure to use our previous class splitting function.\n",
    "# print(type(iris_setosa.train.features), iris_setosa.train.features)\n",
    "\n",
    "# TODO: Test the function here for one of the dataset classes. \n",
    "means, iris_setosa.train.std_devs, iris_setosa.train.prior = calculate_feature_statistics(iris_setosa.train.features)\n",
    "iris_versicolor.train.means, iris_versicolor.train.std_devs, iris_versicolor.train.prior = calculate_feature_statistics(iris_versicolor.train.features)\n",
    "iris_virginica.train.means, iris_virginica.train.std_devs, iris_virginica.train.prior = calculate_feature_statistics(iris_virginica.train.features)\n",
    "\n",
    "# TODO: Print the output from the feature statistic function.\n",
    "print(\"feature\", iris_setosa.train.features)\n",
    "print(\"means\", iris_setosa.train.means)\n",
    "print(\"std_devs\", iris_setosa.train.std_devs) \n",
    "print(\"prior\", iris_setosa.train.prior) "
   ]
  },
  {
   "cell_type": "raw",
   "metadata": {},
   "source": [
    "### 4) Gaussian probability density function (Gaussian PDF)\n",
    "\n",
    "Now we need to implement the gaussian probability density function to use for a single datapoint.\n",
    "\n",
    "**Note:** Look at the imports in the first cell at the top, it has some math numbers for easy use here. "
   ]
  },
  {
   "cell_type": "code",
   "execution_count": 21,
   "metadata": {},
   "outputs": [],
   "source": [
    "def gaussian_probability_density_function(x, means, stdevs):\n",
    "\n",
    "    prob_density = ... # TODO: Implement the gaussian probability density function.\n",
    "\n",
    "    return prob_density"
   ]
  },
  {
   "cell_type": "markdown",
   "metadata": {},
   "source": [
    "### 5) Testing Gaussian PDF"
   ]
  },
  {
   "cell_type": "markdown",
   "metadata": {},
   "source": [
    "We should test it to make sure it works. Train it, using the \"calculate_feature_statistics\" function, on one of the dataset classes. Then, take one datapoint from the same class and use naive bayes gaussian to make a prediction."
   ]
  },
  {
   "cell_type": "code",
   "execution_count": 11,
   "metadata": {},
   "outputs": [
    {
     "ename": "SyntaxError",
     "evalue": "cannot assign to Ellipsis (2628069993.py, line 3)",
     "output_type": "error",
     "traceback": [
      "\u001b[0;36m  Cell \u001b[0;32mIn[11], line 3\u001b[0;36m\u001b[0m\n\u001b[0;31m    ... = calculate_feature_statistics(...)\u001b[0m\n\u001b[0m    ^\u001b[0m\n\u001b[0;31mSyntaxError\u001b[0m\u001b[0;31m:\u001b[0m cannot assign to Ellipsis\n"
     ]
    }
   ],
   "source": [
    "# TODO: Implement the code below to test the \"gaussian_probability_density_function\" function for one of the classes.\n",
    "\n",
    "... = calculate_feature_statistics(...)\n",
    "\n",
    "# TODO: Test with one datapoint from the learned class.\n",
    "... = gaussian_probability_density_function(...)\n",
    "\n",
    "# TODO: Print the probability density\n",
    "print(...)"
   ]
  },
  {
   "cell_type": "markdown",
   "metadata": {},
   "source": [
    "As a test, take one datapoint from one of the other classes and see if the predicted probability changes."
   ]
  },
  {
   "cell_type": "code",
   "execution_count": null,
   "metadata": {},
   "outputs": [],
   "source": [
    "# TODO: Take one datapoint from one of the other classes.\n",
    "other_class_datapoint = ...\n",
    "\n",
    "# TODO: Use naive bayes gaussian on this datapoint with the same feature statistics as the first class.\n",
    "... = gaussian_probability_density_function(...)\n",
    "\n",
    "# TODO: Print the probability\n",
    "print(...)"
   ]
  },
  {
   "cell_type": "markdown",
   "metadata": {},
   "source": [
    "Think a bit why the probability changes, what could affect the prediction?"
   ]
  },
  {
   "cell_type": "markdown",
   "metadata": {},
   "source": [
    "## Prepare Naive Bayes for binary classification"
   ]
  },
  {
   "cell_type": "markdown",
   "metadata": {},
   "source": [
    "### 6) Prepare the data for inference\n",
    "\n",
    "Before we train and test the naive bayes for multiple classes, we should get our data in order.\n",
    "\n",
    "Similar to how we did previously, we should now split two classes into a train and test set, you may choose which two classes freely."
   ]
  },
  {
   "cell_type": "code",
   "execution_count": null,
   "metadata": {},
   "outputs": [],
   "source": [
    "# TODO: Split two classes into train and test sets.\n",
    "\n",
    "\n",
    "# TODO: Sepearte the features and lables for both the train and test set.\n"
   ]
  },
  {
   "cell_type": "markdown",
   "metadata": {},
   "source": [
    "### 7) Class A vs Class B for binary classification\n",
    "\n",
    "**Note:** You might need to go back and forth a bit in the following cells during your implementation of your code.\n",
    "\n",
    "We have to get the probability from two sets of classes and compare the two probabilities in order to make a propper prediction.\n",
    "\n",
    "Here we will implement two functions to make this possible. We seperate these functions to make the implementation of the ROC-curve easier later on.\n",
    "\n",
    "**Function 1: naive_bayes_prediction** \n",
    "* A function that returns the probabilities for each class the model for a single datapoint.\n",
    "\n",
    "**Function 2: probabilities_to_prediction**\n",
    "* A function that takes in probabilities and returns a prediction."
   ]
  },
  {
   "cell_type": "code",
   "execution_count": null,
   "metadata": {},
   "outputs": [],
   "source": [
    "def naive_bayes_prediction(feature_stats, data_point):\n",
    "\n",
    "    # TODO: Implement the rest of this function. Make use of previous functions that you have implemented.\n",
    "\n",
    "\n",
    "    # Note: We need to compare the probabilities at some point between the classes we test on, the predicted class should be the class with the highest probability.\n",
    "    return prediction_probabilities"
   ]
  },
  {
   "cell_type": "code",
   "execution_count": null,
   "metadata": {},
   "outputs": [],
   "source": [
    "def probabilities_to_prediction(probabilities):\n",
    "\n",
    "    # TODO: Implement prediction of the class with the highest probability\n",
    "\n",
    "    return class_prediction"
   ]
  },
  {
   "cell_type": "markdown",
   "metadata": {},
   "source": [
    "To test the function we need the feature metrics from the classes we choose. \n",
    "\n",
    "**Note:** Choose the correct train/test set and the correct feature/label split!"
   ]
  },
  {
   "cell_type": "code",
   "execution_count": null,
   "metadata": {},
   "outputs": [],
   "source": [
    "# TODO: Get the feature metrics for the classes."
   ]
  },
  {
   "cell_type": "markdown",
   "metadata": {},
   "source": [
    "Now we should have implemented all the neccessary parts to train a naive bayes algorithm and do inference on it. Implement a small test workflow for two of your chosen classes."
   ]
  },
  {
   "cell_type": "code",
   "execution_count": null,
   "metadata": {},
   "outputs": [],
   "source": [
    "# TODO: Test the \"naive_bayes_prediction\" function and implement all neccessary code for it to work.\n",
    "\n",
    "# TODO: Print the predicted class and the actual class for the test set"
   ]
  },
  {
   "cell_type": "markdown",
   "metadata": {},
   "source": [
    "## ROC-curve\n",
    "\n",
    "A ROC curve, or *Receiver Operating Characteristic curve*, is a graphical plot that illustrates the performance of a binary classifier such as our Naive Bayes model.\n",
    "\n",
    "More info can be found in the course material and here: [https://en.wikipedia.org/wiki/Receiver_operating_characteristic](https://en.wikipedia.org/wiki/Receiver_operating_characteristic)\n",
    "\n",
    "Another good illustration by Google can be found here: [https://developers.google.com/machine-learning/crash-course/classification/roc-and-auc](https://developers.google.com/machine-learning/crash-course/classification/roc-and-auc)\n",
    "\n",
    "Now that we have a prediction model, we would want to try it out and test it using a ROC-curve."
   ]
  },
  {
   "cell_type": "markdown",
   "metadata": {},
   "source": [
    "### 8) True Positive Rate (TPR) and False Positive Rate (FPR)\n",
    "\n",
    "From our prediction function we get probabilities, and for prediction purposes we have just predicted the one with the highest probability.\n",
    "\n",
    "To plot a ROC-curve, we need the TPR and FPR for the binary classification. We will implement this here.\n",
    "\n",
    "**Note 1:** The threshold is is a value that goes from 0 to 1. \n",
    "\n",
    "**Note 2:** One of the two classes will be seen as \"the positive class\" (prediction over the threshold) and the other as \"the negative class\" (prediction under the threshold).\n",
    "\n",
    "**Note 3:** The threshold stepsize will decide the size of the returned TPR/FPR list. A value of 0.1 will give 10 elements (0 to 1 in increments of 0.1)"
   ]
  },
  {
   "cell_type": "code",
   "execution_count": null,
   "metadata": {},
   "outputs": [],
   "source": [
    "# Stepsize demonstration\n",
    "print(\"Python list:\", [x/10 for x in range(0,10,1)])\n",
    "\n",
    "# Stepsize demonstration with numpy:\n",
    "print(\"Numpy linspace:\", np.linspace(0,1,11))\n",
    "print(\"Numpy linspace (no endpoint):\", np.linspace(0,1,10,endpoint=False))"
   ]
  },
  {
   "cell_type": "code",
   "execution_count": null,
   "metadata": {},
   "outputs": [],
   "source": [
    "def TPR_and_FPR(prediction_probabilities, test_labels, threshold_stepsize = 0.1):\n",
    "\n",
    "    # TODO: Implement the rest of this function\n",
    "\n",
    "    TPR = ...\n",
    "    FPR = ...\n",
    "\n",
    "    return TPR, FPR"
   ]
  },
  {
   "cell_type": "code",
   "execution_count": null,
   "metadata": {},
   "outputs": [],
   "source": [
    "# TODO: Test the \"TPR_and_FPR\" function on the model you have created previously."
   ]
  },
  {
   "cell_type": "markdown",
   "metadata": {},
   "source": [
    "How does the values change if you change the threshold stepsize? \n",
    "\n",
    "How does the values change if you change the classes you compare?"
   ]
  },
  {
   "cell_type": "markdown",
   "metadata": {},
   "source": [
    "### 9) Plot the TPR and FPR\n",
    "\n",
    "To better see what is going on, we can plot the TPR and FPR. We can also calculate the Area Under the ROC Curve (AUC or AUROC) at the same time."
   ]
  },
  {
   "cell_type": "code",
   "execution_count": null,
   "metadata": {},
   "outputs": [],
   "source": [
    "def plot_ROC(TPR, FPR):\n",
    "\n",
    "    # TODO: Calculate the AUC score.\n",
    "\n",
    "    # TODO: Plot the TPR and FPR using plt (matplotlib)\n",
    "\n",
    "    # TODO: Add a \"middle-line\" in the plot. This can be seen as the \"better/worse than random\" line.\n",
    "\n",
    "    plt.plot(...)\n",
    "\n",
    "    plt.show()\n",
    "\n",
    "    pass # No need to return anything, remove this line once you are finished implementing."
   ]
  },
  {
   "cell_type": "code",
   "execution_count": null,
   "metadata": {},
   "outputs": [],
   "source": [
    "# TODO: Test the plotting function on the TPR and FPR you just calculated."
   ]
  },
  {
   "cell_type": "markdown",
   "metadata": {},
   "source": [
    "## Cross-validation\n",
    "\n",
    "The final task is to take everything you have implemented so far and apply it in a cross-validation loop.\n",
    "\n",
    "**Note 1:** To better reflect a real scenarios, you should shuffle the data before doing cross-validation.\n",
    "\n",
    "**Note 2:** When using cross-validation, the interesting thing is the mean performance (mean AUC, mean accuracy, mean ROC-curve).\n",
    "\n",
    "**Note 3:** This part is a bit more free in terms of implementation, but make sure to use some of the previously implemented functions."
   ]
  },
  {
   "cell_type": "markdown",
   "metadata": {},
   "source": [
    "### 10) Cross-validation loop"
   ]
  },
  {
   "cell_type": "code",
   "execution_count": null,
   "metadata": {},
   "outputs": [],
   "source": [
    "def cross_validation(data, target, folds = 10, threshold_stepsize = 0.1):\n",
    "\n",
    "    # TODO: Implement Cross-validation\n",
    "    \n",
    "    for i in range(folds):\n",
    "\n",
    "\n",
    "        ...\n",
    "\n",
    "    # TODO: Plot the average ROC-curve.\n",
    "    # NOTE: Take the correct average!\n",
    "\n",
    "    plot_ROC(...)"
   ]
  },
  {
   "cell_type": "markdown",
   "metadata": {},
   "source": [
    "### 11) 10-fold Cross-validation on all classes\n",
    "\n",
    "Test the \"cross_validation\" function on all the classes against eachother using 10 folds.\n",
    "\n",
    "* Iris-setosa vs Iris-versicolor\n",
    "* Iris-setosa vs Iris-virginica\n",
    "* Iris-versicolor vs Iris-virginica"
   ]
  },
  {
   "cell_type": "code",
   "execution_count": null,
   "metadata": {},
   "outputs": [],
   "source": [
    "# TODO: Implement and test cross-validation function on all classes."
   ]
  },
  {
   "cell_type": "code",
   "execution_count": null,
   "metadata": {},
   "outputs": [],
   "source": [
    "# TODO: Implement and test cross-validation function on all classes."
   ]
  },
  {
   "cell_type": "code",
   "execution_count": null,
   "metadata": {},
   "outputs": [],
   "source": [
    "# TODO: Implement and test cross-validation function on all classes."
   ]
  },
  {
   "cell_type": "markdown",
   "metadata": {},
   "source": [
    "# Questions for examination:\n",
    "\n",
    "In addition to completing the assignment with all its tasks, you should also prepare to answer the following questions:\n",
    "\n",
    "1) Why is it called \"naive bayes\"?\n",
    "\n",
    "2) What are some downsides of the naive bayes learning algorithm?\n",
    "\n",
    "3) When using ROC-curves, what is the theoretical best and worst result you can get?\n",
    "\n",
    "4) When using ROC-curves, in this assignment for example, is a higher threshold-stepsize always better?  \n",
    "\n",
    "5) When using cross-validation and ROC-curves, why is it important to take the correct mean values? What could go wrong?\n"
   ]
  },
  {
   "cell_type": "markdown",
   "metadata": {},
   "source": [
    "# Finished!\n",
    "\n",
    "Was part of the setup incorrect? Did you spot any inconsistencies in the assignment? Could something improve?\n",
    "\n",
    "If so, please write them and send via email and send it to:\n",
    "\n",
    "* marcus.gullstrand@ju.se\n",
    "\n",
    "Thank you!"
   ]
  }
 ],
 "metadata": {
  "kernelspec": {
   "display_name": "Python 3 (ipykernel)",
   "language": "python",
   "name": "python3"
  },
  "language_info": {
   "codemirror_mode": {
    "name": "ipython",
    "version": 3
   },
   "file_extension": ".py",
   "mimetype": "text/x-python",
   "name": "python",
   "nbconvert_exporter": "python",
   "pygments_lexer": "ipython3",
   "version": "3.9.6"
  }
 },
 "nbformat": 4,
 "nbformat_minor": 4
}
